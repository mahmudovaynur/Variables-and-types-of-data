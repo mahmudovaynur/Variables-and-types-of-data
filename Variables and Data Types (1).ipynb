{
 "cells": [
  {
   "cell_type": "markdown",
   "id": "83dadd75-44f4-477b-b04a-64ef53ac70b0",
   "metadata": {},
   "source": [
    "# 1.Variables and Data Types \n"
   ]
  },
  {
   "cell_type": "markdown",
   "id": "8c10a7a3-746b-4ec0-b10d-285e141a5950",
   "metadata": {},
   "source": [
    "1.1 Şərtlər\n",
    "* Bu simvollar istifade etmek olmaz !, @, #, $, % vb.\n",
    "\n",
    "* Değişkən adları rəqəmlər başlaya bilməz!\n",
    "\n",
    "* Python'a aid ifadeler(keyward) değişken adı olarak istifade edilmir.\n",
    "\n",
    "* Sabitler ve değişkenler ASCII harfleri yada _ ile başlar ve yine harf ve rakamlar tanılanmaya devam eder.\n",
    "\n",
    "* Türkçe karakterler kullanılabilir ancak tavsiye edilmez.\n",
    "\n",
    "* Değişken isimleri büyük küçük harfe duyarlıdır(case sensitive). \n",
    "* comment #-ile yazilir :)"
   ]
  },
  {
   "cell_type": "markdown",
   "id": "e19da3e5-d820-480a-829c-0125524e8a8d",
   "metadata": {},
   "source": [
    "## camelCase and snake_case :)"
   ]
  },
  {
   "cell_type": "code",
   "execution_count": null,
   "id": "ca837ebd-55ac-43e8-a3d9-3a056e432dad",
   "metadata": {},
   "outputs": [],
   "source": [
    "degisgen_adı = 2 #snake_case\n",
    "degisgenAdı = 3  #camelCase"
   ]
  },
  {
   "cell_type": "code",
   "execution_count": 6,
   "id": "d1c3bfb2-f9cd-495d-b4e6-f138965af24c",
   "metadata": {},
   "outputs": [
    {
     "name": "stdout",
     "output_type": "stream",
     "text": [
      "Pythonöğreniyorum\n",
      "Python öğreniyorum\n",
      "PythonPythonPython\n",
      "12\n"
     ]
    }
   ],
   "source": [
    "a = \"Python\"\n",
    "b = \"öğreniyorum\"\n",
    "sayı = 3\n",
    "print(a+b)\n",
    "print(a+\" \"+b)\n",
    "print(a*3)\n",
    "print(sayı*4)\n",
    "#print(a+sayı)"
   ]
  },
  {
   "cell_type": "markdown",
   "id": "b12c5887-73c2-4146-b91d-f1644a17bdfd",
   "metadata": {},
   "source": [
    "## 1.2\n"
   ]
  },
  {
   "cell_type": "code",
   "execution_count": 8,
   "id": "e58d2bf9-63e7-4d22-84a4-cc53238e765b",
   "metadata": {},
   "outputs": [
    {
     "name": "stdout",
     "output_type": "stream",
     "text": [
      "1\n",
      "2\n",
      "-------\n",
      "-------\n",
      "2\n",
      "1\n"
     ]
    }
   ],
   "source": [
    "c = 1\n",
    "d = 2\n",
    "print(c)\n",
    "print(d)\n",
    "print(\"-------\")\n",
    "c,d = d,c\n",
    "print(\"-------\")\n",
    "print(c)\n",
    "print(d)"
   ]
  },
  {
   "cell_type": "markdown",
   "id": "91af0732-199c-455f-ae3a-c03c4e955954",
   "metadata": {},
   "source": [
    "## 1.3 Deyisken silmek"
   ]
  },
  {
   "cell_type": "code",
   "execution_count": 13,
   "id": "2b5d630b-75fa-4336-915c-f0f16b00a730",
   "metadata": {},
   "outputs": [
    {
     "name": "stdout",
     "output_type": "stream",
     "text": [
      "21\n"
     ]
    },
    {
     "ename": "NameError",
     "evalue": "name 'a' is not defined",
     "output_type": "error",
     "traceback": [
      "\u001b[1;31m---------------------------------------------------------------------------\u001b[0m",
      "\u001b[1;31mNameError\u001b[0m                                 Traceback (most recent call last)",
      "\u001b[1;32m~\\AppData\\Local\\Temp\\ipykernel_5876\\3012353932.py\u001b[0m in \u001b[0;36m<module>\u001b[1;34m\u001b[0m\n\u001b[0;32m      2\u001b[0m \u001b[0mprint\u001b[0m\u001b[1;33m(\u001b[0m\u001b[0ma\u001b[0m\u001b[1;33m)\u001b[0m\u001b[1;33m\u001b[0m\u001b[1;33m\u001b[0m\u001b[0m\n\u001b[0;32m      3\u001b[0m \u001b[1;32mdel\u001b[0m \u001b[0ma\u001b[0m\u001b[1;33m\u001b[0m\u001b[1;33m\u001b[0m\u001b[0m\n\u001b[1;32m----> 4\u001b[1;33m \u001b[0ma\u001b[0m\u001b[1;33m\u001b[0m\u001b[1;33m\u001b[0m\u001b[0m\n\u001b[0m",
      "\u001b[1;31mNameError\u001b[0m: name 'a' is not defined"
     ]
    }
   ],
   "source": [
    "a=21\n",
    "print(a)\n",
    "del a\n",
    "a"
   ]
  },
  {
   "cell_type": "markdown",
   "id": "7384b1f9-2a8d-4d7d-be3a-9f66bfb1df8b",
   "metadata": {},
   "source": [
    "## 1.4 Local And Global Variable"
   ]
  },
  {
   "cell_type": "code",
   "execution_count": 15,
   "id": "690dd113-48ee-4fb7-bf1d-024062822e45",
   "metadata": {},
   "outputs": [
    {
     "name": "stdout",
     "output_type": "stream",
     "text": [
      "3\n",
      "5\n",
      "5\n"
     ]
    },
    {
     "ename": "NameError",
     "evalue": "name 'lokalDegisken' is not defined",
     "output_type": "error",
     "traceback": [
      "\u001b[1;31m---------------------------------------------------------------------------\u001b[0m",
      "\u001b[1;31mNameError\u001b[0m                                 Traceback (most recent call last)",
      "\u001b[1;32m~\\AppData\\Local\\Temp\\ipykernel_5876\\3837313523.py\u001b[0m in \u001b[0;36m<module>\u001b[1;34m\u001b[0m\n\u001b[0;32m      7\u001b[0m \u001b[0mlocal\u001b[0m\u001b[1;33m(\u001b[0m\u001b[1;33m)\u001b[0m\u001b[1;33m\u001b[0m\u001b[1;33m\u001b[0m\u001b[0m\n\u001b[0;32m      8\u001b[0m \u001b[0mprint\u001b[0m\u001b[1;33m(\u001b[0m\u001b[0mglobalDegisken\u001b[0m\u001b[1;33m)\u001b[0m\u001b[1;33m\u001b[0m\u001b[1;33m\u001b[0m\u001b[0m\n\u001b[1;32m----> 9\u001b[1;33m \u001b[0mprint\u001b[0m\u001b[1;33m(\u001b[0m\u001b[0mlokalDegisken\u001b[0m\u001b[1;33m)\u001b[0m \u001b[1;31m# scoopdan kenarda cagrilamaz!\u001b[0m\u001b[1;33m\u001b[0m\u001b[1;33m\u001b[0m\u001b[0m\n\u001b[0m",
      "\u001b[1;31mNameError\u001b[0m: name 'lokalDegisken' is not defined"
     ]
    }
   ],
   "source": [
    "globalDegisken = 5\n",
    "def local():\n",
    "    localDegisken = 3\n",
    "    print(localDegisken)\n",
    "    print(globalDegisken)\n",
    "    \n",
    "local()\n",
    "print(globalDegisken)\n",
    "print(lokalDegisken) # scoopdan kenarda cagrilamaz!"
   ]
  },
  {
   "cell_type": "code",
   "execution_count": 17,
   "id": "78fffb7d-9a23-4b3e-9ab3-19335e7b5ece",
   "metadata": {},
   "outputs": [
    {
     "name": "stdout",
     "output_type": "stream",
     "text": [
      "3\n",
      "5\n",
      "5\n",
      "3\n"
     ]
    }
   ],
   "source": [
    "globalDegisken = 5\n",
    "def local():\n",
    "    global lokalDegisken #artiq scoopdan kenarda da cagira bilerik, bcz this is a global variable\n",
    "    lokalDegisken = 3\n",
    "    print(lokalDegisken)\n",
    "    print(globalDegisken)\n",
    "    \n",
    "local()\n",
    "print(globalDegisken)\n",
    "print(lokalDegisken)"
   ]
  },
  {
   "cell_type": "markdown",
   "id": "9d9c582a-100d-44ef-83e0-b0f2543ff22f",
   "metadata": {},
   "source": [
    "## 2. Fundamental Functions"
   ]
  },
  {
   "cell_type": "markdown",
   "id": "b499e192-69e2-4e8f-a156-cc07cf4ea0ff",
   "metadata": {},
   "source": [
    "* print()\n",
    "* input()\n",
    "* type()\n",
    "* dir()\n",
    "* len()"
   ]
  },
  {
   "cell_type": "code",
   "execution_count": 20,
   "id": "48d3e1ad-9232-464e-91ff-ec3917c300b4",
   "metadata": {},
   "outputs": [
    {
     "name": "stdout",
     "output_type": "stream",
     "text": [
      "Aynus\n"
     ]
    }
   ],
   "source": [
    "ad='Aynus'\n",
    "print(ad)"
   ]
  },
  {
   "cell_type": "code",
   "execution_count": 21,
   "id": "7c3404e2-72c4-4642-a875-f7c427c51ef0",
   "metadata": {},
   "outputs": [
    {
     "name": "stdin",
     "output_type": "stream",
     "text": [
      "Zehmet olmasa text daxil edin Hello guys\n"
     ]
    },
    {
     "data": {
      "text/plain": [
       "'Hello guys'"
      ]
     },
     "execution_count": 21,
     "metadata": {},
     "output_type": "execute_result"
    }
   ],
   "source": [
    "input('Zehmet olmasa text daxil edin')"
   ]
  },
  {
   "cell_type": "code",
   "execution_count": 23,
   "id": "d5d6fa4b-eedf-41fa-b207-6acd35478bf3",
   "metadata": {},
   "outputs": [
    {
     "name": "stdin",
     "output_type": "stream",
     "text": [
      "Zehmet olmasa text daxil edin Aynur\n"
     ]
    },
    {
     "data": {
      "text/plain": [
       "'Aynur'"
      ]
     },
     "execution_count": 23,
     "metadata": {},
     "output_type": "execute_result"
    }
   ],
   "source": [
    "daxil_edilmis_metn=input('Zehmet olmasa text daxil edin')\n",
    "daxil_edilmis_metn"
   ]
  },
  {
   "cell_type": "code",
   "execution_count": 24,
   "id": "0d6e0b62-f69a-4884-ac02-66b8e6b15347",
   "metadata": {},
   "outputs": [
    {
     "data": {
      "text/plain": [
       "str"
      ]
     },
     "execution_count": 24,
     "metadata": {},
     "output_type": "execute_result"
    }
   ],
   "source": [
    "type('Metn')"
   ]
  },
  {
   "cell_type": "code",
   "execution_count": 25,
   "id": "18f0f033-1828-42df-aa0b-09151fe1d877",
   "metadata": {},
   "outputs": [
    {
     "data": {
      "text/plain": [
       "5"
      ]
     },
     "execution_count": 25,
     "metadata": {},
     "output_type": "execute_result"
    }
   ],
   "source": [
    "len('Aynur')"
   ]
  },
  {
   "cell_type": "code",
   "execution_count": 27,
   "id": "fc0c1c98-d26a-45b0-9c33-7b5c1ac410b7",
   "metadata": {
    "collapsed": true,
    "jupyter": {
     "outputs_hidden": true
    },
    "tags": []
   },
   "outputs": [
    {
     "data": {
      "text/plain": [
       "['__add__',\n",
       " '__class__',\n",
       " '__contains__',\n",
       " '__delattr__',\n",
       " '__dir__',\n",
       " '__doc__',\n",
       " '__eq__',\n",
       " '__format__',\n",
       " '__ge__',\n",
       " '__getattribute__',\n",
       " '__getitem__',\n",
       " '__getnewargs__',\n",
       " '__gt__',\n",
       " '__hash__',\n",
       " '__init__',\n",
       " '__init_subclass__',\n",
       " '__iter__',\n",
       " '__le__',\n",
       " '__len__',\n",
       " '__lt__',\n",
       " '__mod__',\n",
       " '__mul__',\n",
       " '__ne__',\n",
       " '__new__',\n",
       " '__reduce__',\n",
       " '__reduce_ex__',\n",
       " '__repr__',\n",
       " '__rmod__',\n",
       " '__rmul__',\n",
       " '__setattr__',\n",
       " '__sizeof__',\n",
       " '__str__',\n",
       " '__subclasshook__',\n",
       " 'capitalize',\n",
       " 'casefold',\n",
       " 'center',\n",
       " 'count',\n",
       " 'encode',\n",
       " 'endswith',\n",
       " 'expandtabs',\n",
       " 'find',\n",
       " 'format',\n",
       " 'format_map',\n",
       " 'index',\n",
       " 'isalnum',\n",
       " 'isalpha',\n",
       " 'isascii',\n",
       " 'isdecimal',\n",
       " 'isdigit',\n",
       " 'isidentifier',\n",
       " 'islower',\n",
       " 'isnumeric',\n",
       " 'isprintable',\n",
       " 'isspace',\n",
       " 'istitle',\n",
       " 'isupper',\n",
       " 'join',\n",
       " 'ljust',\n",
       " 'lower',\n",
       " 'lstrip',\n",
       " 'maketrans',\n",
       " 'partition',\n",
       " 'removeprefix',\n",
       " 'removesuffix',\n",
       " 'replace',\n",
       " 'rfind',\n",
       " 'rindex',\n",
       " 'rjust',\n",
       " 'rpartition',\n",
       " 'rsplit',\n",
       " 'rstrip',\n",
       " 'split',\n",
       " 'splitlines',\n",
       " 'startswith',\n",
       " 'strip',\n",
       " 'swapcase',\n",
       " 'title',\n",
       " 'translate',\n",
       " 'upper',\n",
       " 'zfill']"
      ]
     },
     "execution_count": 27,
     "metadata": {},
     "output_type": "execute_result"
    }
   ],
   "source": [
    "dir(str) # daxil edilmis melumatla isleye bilecek butun metodlari getirir"
   ]
  },
  {
   "cell_type": "markdown",
   "id": "9c68ee6d-8e03-4aec-a5e1-85ee9f277aa5",
   "metadata": {},
   "source": [
    "## Data types"
   ]
  },
  {
   "cell_type": "markdown",
   "id": "fd774983-9bdb-42eb-a0fa-56b7f2f5b1a0",
   "metadata": {},
   "source": [
    "#### None"
   ]
  },
  {
   "cell_type": "code",
   "execution_count": 30,
   "id": "42db20ab-b682-410e-befb-ee1729b2519c",
   "metadata": {},
   "outputs": [
    {
     "name": "stdout",
     "output_type": "stream",
     "text": [
      "None\n"
     ]
    }
   ],
   "source": [
    "x = None\n",
    "print(x)"
   ]
  },
  {
   "cell_type": "markdown",
   "id": "9a61173f-f826-4a16-b318-b4201cbf1e95",
   "metadata": {},
   "source": [
    "### String"
   ]
  },
  {
   "cell_type": "code",
   "execution_count": 33,
   "id": "30b291f6-22cf-4dbb-96df-d71183c85204",
   "metadata": {},
   "outputs": [],
   "source": [
    "metin='Something' #1line\n",
    "metin=\"Something\" # bu da 1 line\n",
    "metin=\"\"\"\n",
    "S\n",
    "o\n",
    "m\n",
    "e\"\"\""
   ]
  },
  {
   "cell_type": "code",
   "execution_count": 37,
   "id": "136d750b-819d-4048-bee6-65a4c4f30e1b",
   "metadata": {
    "collapsed": true,
    "jupyter": {
     "outputs_hidden": true
    },
    "tags": []
   },
   "outputs": [
    {
     "name": "stdout",
     "output_type": "stream",
     "text": [
      "Help on class str in module builtins:\n",
      "\n",
      "class str(object)\n",
      " |  str(object='') -> str\n",
      " |  str(bytes_or_buffer[, encoding[, errors]]) -> str\n",
      " |  \n",
      " |  Create a new string object from the given object. If encoding or\n",
      " |  errors is specified, then the object must expose a data buffer\n",
      " |  that will be decoded using the given encoding and error handler.\n",
      " |  Otherwise, returns the result of object.__str__() (if defined)\n",
      " |  or repr(object).\n",
      " |  encoding defaults to sys.getdefaultencoding().\n",
      " |  errors defaults to 'strict'.\n",
      " |  \n",
      " |  Methods defined here:\n",
      " |  \n",
      " |  __add__(self, value, /)\n",
      " |      Return self+value.\n",
      " |  \n",
      " |  __contains__(self, key, /)\n",
      " |      Return key in self.\n",
      " |  \n",
      " |  __eq__(self, value, /)\n",
      " |      Return self==value.\n",
      " |  \n",
      " |  __format__(self, format_spec, /)\n",
      " |      Return a formatted version of the string as described by format_spec.\n",
      " |  \n",
      " |  __ge__(self, value, /)\n",
      " |      Return self>=value.\n",
      " |  \n",
      " |  __getattribute__(self, name, /)\n",
      " |      Return getattr(self, name).\n",
      " |  \n",
      " |  __getitem__(self, key, /)\n",
      " |      Return self[key].\n",
      " |  \n",
      " |  __getnewargs__(...)\n",
      " |  \n",
      " |  __gt__(self, value, /)\n",
      " |      Return self>value.\n",
      " |  \n",
      " |  __hash__(self, /)\n",
      " |      Return hash(self).\n",
      " |  \n",
      " |  __iter__(self, /)\n",
      " |      Implement iter(self).\n",
      " |  \n",
      " |  __le__(self, value, /)\n",
      " |      Return self<=value.\n",
      " |  \n",
      " |  __len__(self, /)\n",
      " |      Return len(self).\n",
      " |  \n",
      " |  __lt__(self, value, /)\n",
      " |      Return self<value.\n",
      " |  \n",
      " |  __mod__(self, value, /)\n",
      " |      Return self%value.\n",
      " |  \n",
      " |  __mul__(self, value, /)\n",
      " |      Return self*value.\n",
      " |  \n",
      " |  __ne__(self, value, /)\n",
      " |      Return self!=value.\n",
      " |  \n",
      " |  __repr__(self, /)\n",
      " |      Return repr(self).\n",
      " |  \n",
      " |  __rmod__(self, value, /)\n",
      " |      Return value%self.\n",
      " |  \n",
      " |  __rmul__(self, value, /)\n",
      " |      Return value*self.\n",
      " |  \n",
      " |  __sizeof__(self, /)\n",
      " |      Return the size of the string in memory, in bytes.\n",
      " |  \n",
      " |  __str__(self, /)\n",
      " |      Return str(self).\n",
      " |  \n",
      " |  capitalize(self, /)\n",
      " |      Return a capitalized version of the string.\n",
      " |      \n",
      " |      More specifically, make the first character have upper case and the rest lower\n",
      " |      case.\n",
      " |  \n",
      " |  casefold(self, /)\n",
      " |      Return a version of the string suitable for caseless comparisons.\n",
      " |  \n",
      " |  center(self, width, fillchar=' ', /)\n",
      " |      Return a centered string of length width.\n",
      " |      \n",
      " |      Padding is done using the specified fill character (default is a space).\n",
      " |  \n",
      " |  count(...)\n",
      " |      S.count(sub[, start[, end]]) -> int\n",
      " |      \n",
      " |      Return the number of non-overlapping occurrences of substring sub in\n",
      " |      string S[start:end].  Optional arguments start and end are\n",
      " |      interpreted as in slice notation.\n",
      " |  \n",
      " |  encode(self, /, encoding='utf-8', errors='strict')\n",
      " |      Encode the string using the codec registered for encoding.\n",
      " |      \n",
      " |      encoding\n",
      " |        The encoding in which to encode the string.\n",
      " |      errors\n",
      " |        The error handling scheme to use for encoding errors.\n",
      " |        The default is 'strict' meaning that encoding errors raise a\n",
      " |        UnicodeEncodeError.  Other possible values are 'ignore', 'replace' and\n",
      " |        'xmlcharrefreplace' as well as any other name registered with\n",
      " |        codecs.register_error that can handle UnicodeEncodeErrors.\n",
      " |  \n",
      " |  endswith(...)\n",
      " |      S.endswith(suffix[, start[, end]]) -> bool\n",
      " |      \n",
      " |      Return True if S ends with the specified suffix, False otherwise.\n",
      " |      With optional start, test S beginning at that position.\n",
      " |      With optional end, stop comparing S at that position.\n",
      " |      suffix can also be a tuple of strings to try.\n",
      " |  \n",
      " |  expandtabs(self, /, tabsize=8)\n",
      " |      Return a copy where all tab characters are expanded using spaces.\n",
      " |      \n",
      " |      If tabsize is not given, a tab size of 8 characters is assumed.\n",
      " |  \n",
      " |  find(...)\n",
      " |      S.find(sub[, start[, end]]) -> int\n",
      " |      \n",
      " |      Return the lowest index in S where substring sub is found,\n",
      " |      such that sub is contained within S[start:end].  Optional\n",
      " |      arguments start and end are interpreted as in slice notation.\n",
      " |      \n",
      " |      Return -1 on failure.\n",
      " |  \n",
      " |  format(...)\n",
      " |      S.format(*args, **kwargs) -> str\n",
      " |      \n",
      " |      Return a formatted version of S, using substitutions from args and kwargs.\n",
      " |      The substitutions are identified by braces ('{' and '}').\n",
      " |  \n",
      " |  format_map(...)\n",
      " |      S.format_map(mapping) -> str\n",
      " |      \n",
      " |      Return a formatted version of S, using substitutions from mapping.\n",
      " |      The substitutions are identified by braces ('{' and '}').\n",
      " |  \n",
      " |  index(...)\n",
      " |      S.index(sub[, start[, end]]) -> int\n",
      " |      \n",
      " |      Return the lowest index in S where substring sub is found,\n",
      " |      such that sub is contained within S[start:end].  Optional\n",
      " |      arguments start and end are interpreted as in slice notation.\n",
      " |      \n",
      " |      Raises ValueError when the substring is not found.\n",
      " |  \n",
      " |  isalnum(self, /)\n",
      " |      Return True if the string is an alpha-numeric string, False otherwise.\n",
      " |      \n",
      " |      A string is alpha-numeric if all characters in the string are alpha-numeric and\n",
      " |      there is at least one character in the string.\n",
      " |  \n",
      " |  isalpha(self, /)\n",
      " |      Return True if the string is an alphabetic string, False otherwise.\n",
      " |      \n",
      " |      A string is alphabetic if all characters in the string are alphabetic and there\n",
      " |      is at least one character in the string.\n",
      " |  \n",
      " |  isascii(self, /)\n",
      " |      Return True if all characters in the string are ASCII, False otherwise.\n",
      " |      \n",
      " |      ASCII characters have code points in the range U+0000-U+007F.\n",
      " |      Empty string is ASCII too.\n",
      " |  \n",
      " |  isdecimal(self, /)\n",
      " |      Return True if the string is a decimal string, False otherwise.\n",
      " |      \n",
      " |      A string is a decimal string if all characters in the string are decimal and\n",
      " |      there is at least one character in the string.\n",
      " |  \n",
      " |  isdigit(self, /)\n",
      " |      Return True if the string is a digit string, False otherwise.\n",
      " |      \n",
      " |      A string is a digit string if all characters in the string are digits and there\n",
      " |      is at least one character in the string.\n",
      " |  \n",
      " |  isidentifier(self, /)\n",
      " |      Return True if the string is a valid Python identifier, False otherwise.\n",
      " |      \n",
      " |      Call keyword.iskeyword(s) to test whether string s is a reserved identifier,\n",
      " |      such as \"def\" or \"class\".\n",
      " |  \n",
      " |  islower(self, /)\n",
      " |      Return True if the string is a lowercase string, False otherwise.\n",
      " |      \n",
      " |      A string is lowercase if all cased characters in the string are lowercase and\n",
      " |      there is at least one cased character in the string.\n",
      " |  \n",
      " |  isnumeric(self, /)\n",
      " |      Return True if the string is a numeric string, False otherwise.\n",
      " |      \n",
      " |      A string is numeric if all characters in the string are numeric and there is at\n",
      " |      least one character in the string.\n",
      " |  \n",
      " |  isprintable(self, /)\n",
      " |      Return True if the string is printable, False otherwise.\n",
      " |      \n",
      " |      A string is printable if all of its characters are considered printable in\n",
      " |      repr() or if it is empty.\n",
      " |  \n",
      " |  isspace(self, /)\n",
      " |      Return True if the string is a whitespace string, False otherwise.\n",
      " |      \n",
      " |      A string is whitespace if all characters in the string are whitespace and there\n",
      " |      is at least one character in the string.\n",
      " |  \n",
      " |  istitle(self, /)\n",
      " |      Return True if the string is a title-cased string, False otherwise.\n",
      " |      \n",
      " |      In a title-cased string, upper- and title-case characters may only\n",
      " |      follow uncased characters and lowercase characters only cased ones.\n",
      " |  \n",
      " |  isupper(self, /)\n",
      " |      Return True if the string is an uppercase string, False otherwise.\n",
      " |      \n",
      " |      A string is uppercase if all cased characters in the string are uppercase and\n",
      " |      there is at least one cased character in the string.\n",
      " |  \n",
      " |  join(self, iterable, /)\n",
      " |      Concatenate any number of strings.\n",
      " |      \n",
      " |      The string whose method is called is inserted in between each given string.\n",
      " |      The result is returned as a new string.\n",
      " |      \n",
      " |      Example: '.'.join(['ab', 'pq', 'rs']) -> 'ab.pq.rs'\n",
      " |  \n",
      " |  ljust(self, width, fillchar=' ', /)\n",
      " |      Return a left-justified string of length width.\n",
      " |      \n",
      " |      Padding is done using the specified fill character (default is a space).\n",
      " |  \n",
      " |  lower(self, /)\n",
      " |      Return a copy of the string converted to lowercase.\n",
      " |  \n",
      " |  lstrip(self, chars=None, /)\n",
      " |      Return a copy of the string with leading whitespace removed.\n",
      " |      \n",
      " |      If chars is given and not None, remove characters in chars instead.\n",
      " |  \n",
      " |  partition(self, sep, /)\n",
      " |      Partition the string into three parts using the given separator.\n",
      " |      \n",
      " |      This will search for the separator in the string.  If the separator is found,\n",
      " |      returns a 3-tuple containing the part before the separator, the separator\n",
      " |      itself, and the part after it.\n",
      " |      \n",
      " |      If the separator is not found, returns a 3-tuple containing the original string\n",
      " |      and two empty strings.\n",
      " |  \n",
      " |  removeprefix(self, prefix, /)\n",
      " |      Return a str with the given prefix string removed if present.\n",
      " |      \n",
      " |      If the string starts with the prefix string, return string[len(prefix):].\n",
      " |      Otherwise, return a copy of the original string.\n",
      " |  \n",
      " |  removesuffix(self, suffix, /)\n",
      " |      Return a str with the given suffix string removed if present.\n",
      " |      \n",
      " |      If the string ends with the suffix string and that suffix is not empty,\n",
      " |      return string[:-len(suffix)]. Otherwise, return a copy of the original\n",
      " |      string.\n",
      " |  \n",
      " |  replace(self, old, new, count=-1, /)\n",
      " |      Return a copy with all occurrences of substring old replaced by new.\n",
      " |      \n",
      " |        count\n",
      " |          Maximum number of occurrences to replace.\n",
      " |          -1 (the default value) means replace all occurrences.\n",
      " |      \n",
      " |      If the optional argument count is given, only the first count occurrences are\n",
      " |      replaced.\n",
      " |  \n",
      " |  rfind(...)\n",
      " |      S.rfind(sub[, start[, end]]) -> int\n",
      " |      \n",
      " |      Return the highest index in S where substring sub is found,\n",
      " |      such that sub is contained within S[start:end].  Optional\n",
      " |      arguments start and end are interpreted as in slice notation.\n",
      " |      \n",
      " |      Return -1 on failure.\n",
      " |  \n",
      " |  rindex(...)\n",
      " |      S.rindex(sub[, start[, end]]) -> int\n",
      " |      \n",
      " |      Return the highest index in S where substring sub is found,\n",
      " |      such that sub is contained within S[start:end].  Optional\n",
      " |      arguments start and end are interpreted as in slice notation.\n",
      " |      \n",
      " |      Raises ValueError when the substring is not found.\n",
      " |  \n",
      " |  rjust(self, width, fillchar=' ', /)\n",
      " |      Return a right-justified string of length width.\n",
      " |      \n",
      " |      Padding is done using the specified fill character (default is a space).\n",
      " |  \n",
      " |  rpartition(self, sep, /)\n",
      " |      Partition the string into three parts using the given separator.\n",
      " |      \n",
      " |      This will search for the separator in the string, starting at the end. If\n",
      " |      the separator is found, returns a 3-tuple containing the part before the\n",
      " |      separator, the separator itself, and the part after it.\n",
      " |      \n",
      " |      If the separator is not found, returns a 3-tuple containing two empty strings\n",
      " |      and the original string.\n",
      " |  \n",
      " |  rsplit(self, /, sep=None, maxsplit=-1)\n",
      " |      Return a list of the words in the string, using sep as the delimiter string.\n",
      " |      \n",
      " |        sep\n",
      " |          The delimiter according which to split the string.\n",
      " |          None (the default value) means split according to any whitespace,\n",
      " |          and discard empty strings from the result.\n",
      " |        maxsplit\n",
      " |          Maximum number of splits to do.\n",
      " |          -1 (the default value) means no limit.\n",
      " |      \n",
      " |      Splits are done starting at the end of the string and working to the front.\n",
      " |  \n",
      " |  rstrip(self, chars=None, /)\n",
      " |      Return a copy of the string with trailing whitespace removed.\n",
      " |      \n",
      " |      If chars is given and not None, remove characters in chars instead.\n",
      " |  \n",
      " |  split(self, /, sep=None, maxsplit=-1)\n",
      " |      Return a list of the words in the string, using sep as the delimiter string.\n",
      " |      \n",
      " |      sep\n",
      " |        The delimiter according which to split the string.\n",
      " |        None (the default value) means split according to any whitespace,\n",
      " |        and discard empty strings from the result.\n",
      " |      maxsplit\n",
      " |        Maximum number of splits to do.\n",
      " |        -1 (the default value) means no limit.\n",
      " |  \n",
      " |  splitlines(self, /, keepends=False)\n",
      " |      Return a list of the lines in the string, breaking at line boundaries.\n",
      " |      \n",
      " |      Line breaks are not included in the resulting list unless keepends is given and\n",
      " |      true.\n",
      " |  \n",
      " |  startswith(...)\n",
      " |      S.startswith(prefix[, start[, end]]) -> bool\n",
      " |      \n",
      " |      Return True if S starts with the specified prefix, False otherwise.\n",
      " |      With optional start, test S beginning at that position.\n",
      " |      With optional end, stop comparing S at that position.\n",
      " |      prefix can also be a tuple of strings to try.\n",
      " |  \n",
      " |  strip(self, chars=None, /)\n",
      " |      Return a copy of the string with leading and trailing whitespace removed.\n",
      " |      \n",
      " |      If chars is given and not None, remove characters in chars instead.\n",
      " |  \n",
      " |  swapcase(self, /)\n",
      " |      Convert uppercase characters to lowercase and lowercase characters to uppercase.\n",
      " |  \n",
      " |  title(self, /)\n",
      " |      Return a version of the string where each word is titlecased.\n",
      " |      \n",
      " |      More specifically, words start with uppercased characters and all remaining\n",
      " |      cased characters have lower case.\n",
      " |  \n",
      " |  translate(self, table, /)\n",
      " |      Replace each character in the string using the given translation table.\n",
      " |      \n",
      " |        table\n",
      " |          Translation table, which must be a mapping of Unicode ordinals to\n",
      " |          Unicode ordinals, strings, or None.\n",
      " |      \n",
      " |      The table must implement lookup/indexing via __getitem__, for instance a\n",
      " |      dictionary or list.  If this operation raises LookupError, the character is\n",
      " |      left untouched.  Characters mapped to None are deleted.\n",
      " |  \n",
      " |  upper(self, /)\n",
      " |      Return a copy of the string converted to uppercase.\n",
      " |  \n",
      " |  zfill(self, width, /)\n",
      " |      Pad a numeric string with zeros on the left, to fill a field of the given width.\n",
      " |      \n",
      " |      The string is never truncated.\n",
      " |  \n",
      " |  ----------------------------------------------------------------------\n",
      " |  Static methods defined here:\n",
      " |  \n",
      " |  __new__(*args, **kwargs) from builtins.type\n",
      " |      Create and return a new object.  See help(type) for accurate signature.\n",
      " |  \n",
      " |  maketrans(...)\n",
      " |      Return a translation table usable for str.translate().\n",
      " |      \n",
      " |      If there is only one argument, it must be a dictionary mapping Unicode\n",
      " |      ordinals (integers) or characters to Unicode ordinals, strings or None.\n",
      " |      Character keys will be then converted to ordinals.\n",
      " |      If there are two arguments, they must be strings of equal length, and\n",
      " |      in the resulting dictionary, each character in x will be mapped to the\n",
      " |      character at the same position in y. If there is a third argument, it\n",
      " |      must be a string, whose characters will be mapped to None in the result.\n",
      "\n"
     ]
    }
   ],
   "source": [
    "metin\n",
    "dir(metin)\n",
    "help(str)\n"
   ]
  },
  {
   "cell_type": "markdown",
   "id": "ada71ff7-5f44-485f-986e-bdcfafaa32c3",
   "metadata": {},
   "source": [
    "## index and Slicing"
   ]
  },
  {
   "cell_type": "code",
   "execution_count": 39,
   "id": "e05cf3ba-cb33-4617-8ae3-823080987181",
   "metadata": {},
   "outputs": [],
   "source": [
    "ad=' Moon '"
   ]
  },
  {
   "cell_type": "code",
   "execution_count": 41,
   "id": "9b64d4dc-46b5-413f-9906-156ea4ad4392",
   "metadata": {},
   "outputs": [
    {
     "data": {
      "text/plain": [
       "' M'"
      ]
     },
     "execution_count": 41,
     "metadata": {},
     "output_type": "execute_result"
    }
   ],
   "source": [
    "ad[0]+ad[1]"
   ]
  },
  {
   "cell_type": "code",
   "execution_count": 43,
   "id": "6f27157c-8ec7-456d-a64f-133d3394e39f",
   "metadata": {},
   "outputs": [
    {
     "data": {
      "text/plain": [
       "' M'"
      ]
     },
     "execution_count": 43,
     "metadata": {},
     "output_type": "execute_result"
    }
   ],
   "source": [
    "ad[:2:] # slicing"
   ]
  },
  {
   "cell_type": "code",
   "execution_count": 44,
   "id": "694417ab-78d0-4046-8d6f-277d7d140c41",
   "metadata": {},
   "outputs": [
    {
     "ename": "TypeError",
     "evalue": "'str' object does not support item assignment",
     "output_type": "error",
     "traceback": [
      "\u001b[1;31m---------------------------------------------------------------------------\u001b[0m",
      "\u001b[1;31mTypeError\u001b[0m                                 Traceback (most recent call last)",
      "\u001b[1;32m~\\AppData\\Local\\Temp\\ipykernel_5876\\3320887730.py\u001b[0m in \u001b[0;36m<module>\u001b[1;34m\u001b[0m\n\u001b[1;32m----> 1\u001b[1;33m \u001b[0mad\u001b[0m\u001b[1;33m[\u001b[0m\u001b[1;36m0\u001b[0m\u001b[1;33m]\u001b[0m\u001b[1;33m=\u001b[0m\u001b[1;34m'1'\u001b[0m\u001b[1;33m\u001b[0m\u001b[1;33m\u001b[0m\u001b[0m\n\u001b[0m",
      "\u001b[1;31mTypeError\u001b[0m: 'str' object does not support item assignment"
     ]
    }
   ],
   "source": [
    "ad[0]='1' # str not changeable"
   ]
  },
  {
   "cell_type": "code",
   "execution_count": 45,
   "id": "ec7994c7-4a55-4b9a-b34c-4ad16acaceae",
   "metadata": {},
   "outputs": [],
   "source": [
    "# dirnaq problemleri\n",
    "a = 'Mehmet\\'in telefonu bende kalmış.'"
   ]
  },
  {
   "cell_type": "code",
   "execution_count": 49,
   "id": "c93665b4-7134-4381-adc4-a5228184718b",
   "metadata": {},
   "outputs": [
    {
     "name": "stdout",
     "output_type": "stream",
     "text": [
      "Python \n",
      " öğreniyorum\n",
      "Python\n",
      "öğreniyorum\n",
      "Python \t öğreniyorum\n"
     ]
    }
   ],
   "source": [
    "print(\"Python \\n öğreniyorum\")\n",
    "print(\"Python\\nöğreniyorum\")\n",
    "print(\"Python \\t öğreniyorum\")"
   ]
  },
  {
   "cell_type": "markdown",
   "id": "9a665a51-88cc-4c7b-912f-3f3ef6aef331",
   "metadata": {},
   "source": [
    "## Python - Format - Strings"
   ]
  },
  {
   "cell_type": "code",
   "execution_count": 51,
   "id": "b1c0d405-c887-4893-92ad-883fe7496abd",
   "metadata": {},
   "outputs": [
    {
     "ename": "TypeError",
     "evalue": "can only concatenate str (not \"int\") to str",
     "output_type": "error",
     "traceback": [
      "\u001b[1;31m---------------------------------------------------------------------------\u001b[0m",
      "\u001b[1;31mTypeError\u001b[0m                                 Traceback (most recent call last)",
      "\u001b[1;32m~\\AppData\\Local\\Temp\\ipykernel_5876\\572930697.py\u001b[0m in \u001b[0;36m<module>\u001b[1;34m\u001b[0m\n\u001b[0;32m      1\u001b[0m \u001b[0mage\u001b[0m \u001b[1;33m=\u001b[0m \u001b[1;36m21\u001b[0m\u001b[1;33m\u001b[0m\u001b[1;33m\u001b[0m\u001b[0m\n\u001b[1;32m----> 2\u001b[1;33m \u001b[0mtxt\u001b[0m \u001b[1;33m=\u001b[0m \u001b[1;34m\"My name is Aynur, I am \"\u001b[0m \u001b[1;33m+\u001b[0m \u001b[0mage\u001b[0m\u001b[1;33m\u001b[0m\u001b[1;33m\u001b[0m\u001b[0m\n\u001b[0m\u001b[0;32m      3\u001b[0m \u001b[0mprint\u001b[0m\u001b[1;33m(\u001b[0m\u001b[0mtxt\u001b[0m\u001b[1;33m)\u001b[0m \u001b[1;31m# bele halda komeyimize gelir formatlama :)\u001b[0m\u001b[1;33m\u001b[0m\u001b[1;33m\u001b[0m\u001b[0m\n",
      "\u001b[1;31mTypeError\u001b[0m: can only concatenate str (not \"int\") to str"
     ]
    }
   ],
   "source": [
    "age = 21\n",
    "txt = \"My name is Aynur, I am \" + age\n",
    "print(txt) # bele halda komeyimize gelir formatlama :)"
   ]
  },
  {
   "cell_type": "code",
   "execution_count": 53,
   "id": "6a9b3781-200a-418c-92b4-06bc55df4fc5",
   "metadata": {},
   "outputs": [
    {
     "name": "stdout",
     "output_type": "stream",
     "text": [
      "My name is Aynur, and I am 21\n"
     ]
    }
   ],
   "source": [
    "# Format\n",
    "age = 21\n",
    "txt = \"My name is Aynur, and I am {}\"\n",
    "print(txt.format(age))"
   ]
  },
  {
   "cell_type": "code",
   "execution_count": 54,
   "id": "62c7536d-77b5-4ed4-9fe4-5ff0c3ac928d",
   "metadata": {},
   "outputs": [
    {
     "name": "stdout",
     "output_type": "stream",
     "text": [
      "I want 3 pieces of item 567 for 49.95 dollars.\n"
     ]
    }
   ],
   "source": [
    "quantity = 3\n",
    "itemno = 567\n",
    "price = 49.95\n",
    "myorder = \"I want {} pieces of item {} for {} dollars.\"\n",
    "print(myorder.format(quantity, itemno, price))"
   ]
  },
  {
   "cell_type": "code",
   "execution_count": 56,
   "id": "c72d8e75-85ba-4dba-acda-22f5b751a6c7",
   "metadata": {},
   "outputs": [
    {
     "name": "stdout",
     "output_type": "stream",
     "text": [
      "I want to pay 49.95 dollars for 3 pieces of item 566.\n"
     ]
    }
   ],
   "source": [
    "quantity = 3\n",
    "itemno = 566\n",
    "price = 49.95\n",
    "myorder = \"I want to pay {2} dollars for {0} pieces of item {1}.\"\n",
    "print(myorder.format(quantity, itemno, price))"
   ]
  },
  {
   "cell_type": "markdown",
   "id": "52991a78-7088-4c10-875d-218fd4426dbe",
   "metadata": {},
   "source": [
    " ## String Method\n",
    " * string uzerinde edilmis deyilikler muveqqetidir, orginali deyismir!!!!!!!!!!!!!!!!!"
   ]
  },
  {
   "cell_type": "code",
   "execution_count": 59,
   "id": "da91d8f8-825f-4d68-b26a-0bb44245f8fc",
   "metadata": {},
   "outputs": [
    {
     "name": "stdout",
     "output_type": "stream",
     "text": [
      "HELLO, WORLD!\n"
     ]
    },
    {
     "data": {
      "text/plain": [
       "'Hello, World!'"
      ]
     },
     "execution_count": 59,
     "metadata": {},
     "output_type": "execute_result"
    }
   ],
   "source": [
    "#The upper() method returns the string in upper case:\n",
    "a = \"Hello, World!\"\n",
    "print(a.upper())\n",
    "a \n"
   ]
  },
  {
   "cell_type": "code",
   "execution_count": 60,
   "id": "b21d26c9-0f23-4f1d-931c-ab5a129c2645",
   "metadata": {},
   "outputs": [
    {
     "name": "stdout",
     "output_type": "stream",
     "text": [
      "hello, world!\n"
     ]
    }
   ],
   "source": [
    "#The lower() method returns the string in lower case:\n",
    "a = \"Hello, World!\"\n",
    "print(a.lower())"
   ]
  },
  {
   "cell_type": "code",
   "execution_count": 62,
   "id": "f2bbbdc0-8fe6-422f-92be-882d0a54ef9e",
   "metadata": {},
   "outputs": [
    {
     "name": "stdout",
     "output_type": "stream",
     "text": [
      "Hello, World!\n"
     ]
    }
   ],
   "source": [
    "#The strip() method removes any whitespace from the beginning or the end:\n",
    "a = \" Hello, World! \"\n",
    "print(a.strip()) # returns \"Hello, World!\""
   ]
  },
  {
   "cell_type": "code",
   "execution_count": 64,
   "id": "8f9e48dc-e129-45e9-a4f1-6ff334766b56",
   "metadata": {},
   "outputs": [
    {
     "name": "stdout",
     "output_type": "stream",
     "text": [
      "Jello, World!\n"
     ]
    }
   ],
   "source": [
    "# The replace() method replaces a string with another string:\n",
    "a = \"Hello, World!\"\n",
    "print(a.replace(\"H\", \"J\"))"
   ]
  },
  {
   "cell_type": "code",
   "execution_count": 67,
   "id": "bfd1dcf6-401d-4d48-a31a-a320216b351f",
   "metadata": {},
   "outputs": [
    {
     "name": "stdout",
     "output_type": "stream",
     "text": [
      "['Hello', ' World!']\n"
     ]
    }
   ],
   "source": [
    "# The split() method splits the string into substrings if it finds instances of the separator: and return a list\n",
    "a = \"Hello, World!\"\n",
    "print(a.split(\",\")) # returns ['Hello', ' World!']"
   ]
  },
  {
   "cell_type": "code",
   "execution_count": 73,
   "id": "830e306e-d519-4a84-98cc-5315c2e5f87e",
   "metadata": {},
   "outputs": [
    {
     "name": "stdout",
     "output_type": "stream",
     "text": [
      "ISTANBULA\n"
     ]
    }
   ],
   "source": [
    "a = \"istanbula\"\n",
    "a.capitalize() #ilk herfi boyudur\n",
    "a.count(\"a\") \n",
    "a.endswith(\"k\")\n",
    "a.find(\"s\") # returns index\n",
    "a.isdigit() # true or false\n",
    "a.islower() #true or false\n",
    "a = a.upper() # eger x deyisenie menimsetsek o zaman text deyisir\n",
    "print(a)"
   ]
  },
  {
   "cell_type": "markdown",
   "id": "d4265376-991c-46c8-b0d9-a6e3d7142d6d",
   "metadata": {},
   "source": [
    "### Python Numbers"
   ]
  },
  {
   "cell_type": "markdown",
   "id": "499bd40f-342d-4d20-838e-ccb403f58974",
   "metadata": {},
   "source": [
    "# There are three numeric types in Python:\n",
    "\n",
    "* int\n",
    "* float\n",
    "* complex"
   ]
  },
  {
   "cell_type": "code",
   "execution_count": 75,
   "id": "1c33b8a4-0b5d-492c-a62c-6ff9066bdace",
   "metadata": {},
   "outputs": [],
   "source": [
    "a=int()\n",
    "b=float()\n",
    "c=complex()"
   ]
  },
  {
   "cell_type": "code",
   "execution_count": 99,
   "id": "7c1c3f5a-b37a-489c-b253-fe13bba57bc3",
   "metadata": {},
   "outputs": [
    {
     "data": {
      "text/plain": [
       "complex"
      ]
     },
     "execution_count": 99,
     "metadata": {},
     "output_type": "execute_result"
    }
   ],
   "source": [
    "type(a)\n",
    "type(b)\n",
    "type(c)"
   ]
  },
  {
   "cell_type": "code",
   "execution_count": 100,
   "id": "b2b369f7-563d-41a4-b8f5-e1a294279ff5",
   "metadata": {},
   "outputs": [
    {
     "data": {
      "text/plain": [
       "45"
      ]
     },
     "execution_count": 100,
     "metadata": {},
     "output_type": "execute_result"
    }
   ],
   "source": [
    "a=45\n",
    "a.real"
   ]
  },
  {
   "cell_type": "code",
   "execution_count": 80,
   "id": "7db5d844-0453-4854-9d5f-0193b538ff64",
   "metadata": {},
   "outputs": [],
   "source": [
    "# Metodlar baxmaq ucun variable.tab vururuq"
   ]
  },
  {
   "cell_type": "code",
   "execution_count": 85,
   "id": "8f648bd3-b47b-47f2-9dd2-51a4e3ef2aca",
   "metadata": {},
   "outputs": [
    {
     "name": "stdout",
     "output_type": "stream",
     "text": [
      "<class 'float'>\n",
      "<class 'float'>\n",
      "<class 'float'>\n"
     ]
    }
   ],
   "source": [
    "x = 35e3\n",
    "y = 12E4\n",
    "z = -87.7e100\n",
    "\n",
    "print(type(x))\n",
    "print(type(y))\n",
    "print(type(z))"
   ]
  },
  {
   "cell_type": "code",
   "execution_count": 89,
   "id": "7f643d99-fb5e-42d1-89fa-df1ca90a9fae",
   "metadata": {},
   "outputs": [],
   "source": [
    "a=54.1"
   ]
  },
  {
   "cell_type": "code",
   "execution_count": 92,
   "id": "1b77a4a1-4b21-40ac-b43c-492819a55a04",
   "metadata": {
    "tags": []
   },
   "outputs": [
    {
     "name": "stdout",
     "output_type": "stream",
     "text": [
      "(2+3j)\n"
     ]
    },
    {
     "data": {
      "text/plain": [
       "complex"
      ]
     },
     "execution_count": 92,
     "metadata": {},
     "output_type": "execute_result"
    }
   ],
   "source": [
    "c = complex()\n",
    "c = complex(2,3)\n",
    "print(c)\n",
    "type(c)\n",
    "#help(c)"
   ]
  },
  {
   "cell_type": "code",
   "execution_count": 94,
   "id": "68d73ca1-9ebb-4af3-8f7d-b7608180cf90",
   "metadata": {},
   "outputs": [
    {
     "data": {
      "text/plain": [
       "(2-3j)"
      ]
     },
     "execution_count": 94,
     "metadata": {},
     "output_type": "execute_result"
    }
   ],
   "source": [
    "c.conjugate() #qosmasi"
   ]
  },
  {
   "cell_type": "code",
   "execution_count": 97,
   "id": "14b15c2f-6bf9-48ed-a6ac-32cba7e87441",
   "metadata": {},
   "outputs": [
    {
     "data": {
      "text/plain": [
       "(2+3j)"
      ]
     },
     "execution_count": 97,
     "metadata": {},
     "output_type": "execute_result"
    }
   ],
   "source": [
    "c"
   ]
  },
  {
   "cell_type": "code",
   "execution_count": 101,
   "id": "e194fdf8-b846-4731-8375-a7fd6033fa54",
   "metadata": {},
   "outputs": [],
   "source": [
    "b=c.imag\n",
    "d=c.real"
   ]
  },
  {
   "cell_type": "code",
   "execution_count": 102,
   "id": "e54bd501-8e61-4387-b8e5-ae69a71ae6e5",
   "metadata": {},
   "outputs": [
    {
     "data": {
      "text/plain": [
       "(3.0, 2.0)"
      ]
     },
     "execution_count": 102,
     "metadata": {},
     "output_type": "execute_result"
    }
   ],
   "source": [
    "b,d"
   ]
  },
  {
   "cell_type": "code",
   "execution_count": 104,
   "id": "4fec38ac-eceb-4adb-a2a7-39f59ffdd0bc",
   "metadata": {},
   "outputs": [],
   "source": [
    "a=50"
   ]
  },
  {
   "cell_type": "code",
   "execution_count": 106,
   "id": "8510b4e2-c9e3-4395-96a7-39bfb3cc4ca5",
   "metadata": {},
   "outputs": [
    {
     "data": {
      "text/plain": [
       "(50, 1)"
      ]
     },
     "execution_count": 106,
     "metadata": {},
     "output_type": "execute_result"
    }
   ],
   "source": [
    "a.as_integer_ratio()"
   ]
  },
  {
   "cell_type": "code",
   "execution_count": 107,
   "id": "400f49d8-729d-4662-bd58-ecf050377425",
   "metadata": {},
   "outputs": [
    {
     "data": {
      "text/plain": [
       "6"
      ]
     },
     "execution_count": 107,
     "metadata": {},
     "output_type": "execute_result"
    }
   ],
   "source": [
    "a.bit_length()"
   ]
  },
  {
   "cell_type": "code",
   "execution_count": 108,
   "id": "4dfb17ef-947c-48d2-8ed2-589ee75a6a64",
   "metadata": {},
   "outputs": [
    {
     "data": {
      "text/plain": [
       "50"
      ]
     },
     "execution_count": 108,
     "metadata": {},
     "output_type": "execute_result"
    }
   ],
   "source": [
    "a.conjugate()"
   ]
  },
  {
   "cell_type": "markdown",
   "id": "5ec51529-f1bc-4dcb-b0d2-ca1ef35354c5",
   "metadata": {},
   "source": [
    "## Boolen type"
   ]
  },
  {
   "cell_type": "code",
   "execution_count": 110,
   "id": "cfbc9185-ee64-4db8-92e5-e9e425c31bb8",
   "metadata": {},
   "outputs": [],
   "source": [
    "mentiqi=bool()"
   ]
  },
  {
   "cell_type": "code",
   "execution_count": 111,
   "id": "89f988f4-07e8-48a3-a3ad-982dab91020b",
   "metadata": {},
   "outputs": [],
   "source": [
    "mentiqi=True"
   ]
  },
  {
   "cell_type": "code",
   "execution_count": 112,
   "id": "479787e6-51f4-46b0-a245-8d1ace09df85",
   "metadata": {},
   "outputs": [
    {
     "data": {
      "text/plain": [
       "1"
      ]
     },
     "execution_count": 112,
     "metadata": {},
     "output_type": "execute_result"
    }
   ],
   "source": [
    "mentiqi.real"
   ]
  },
  {
   "cell_type": "code",
   "execution_count": 113,
   "id": "861a6437-b0bd-4d40-8796-cf340597a9df",
   "metadata": {},
   "outputs": [
    {
     "data": {
      "text/plain": [
       "0"
      ]
     },
     "execution_count": 113,
     "metadata": {},
     "output_type": "execute_result"
    }
   ],
   "source": [
    "mentiqi.imag"
   ]
  },
  {
   "cell_type": "code",
   "execution_count": 114,
   "id": "dc1bbdf1-a649-4b72-b2ea-5ade307438ff",
   "metadata": {},
   "outputs": [
    {
     "data": {
      "text/plain": [
       "True"
      ]
     },
     "execution_count": 114,
     "metadata": {},
     "output_type": "execute_result"
    }
   ],
   "source": [
    "a>b"
   ]
  },
  {
   "cell_type": "code",
   "execution_count": 116,
   "id": "40aa8295-c7b6-43c9-918e-8649a8eeab72",
   "metadata": {},
   "outputs": [
    {
     "data": {
      "text/plain": [
       "False"
      ]
     },
     "execution_count": 116,
     "metadata": {},
     "output_type": "execute_result"
    }
   ],
   "source": [
    "'a'=='A'"
   ]
  },
  {
   "cell_type": "code",
   "execution_count": 120,
   "id": "40c5f26b-464f-4e7c-9998-06bccec55f83",
   "metadata": {},
   "outputs": [
    {
     "data": {
      "text/plain": [
       "True"
      ]
     },
     "execution_count": 120,
     "metadata": {},
     "output_type": "execute_result"
    }
   ],
   "source": [
    "a>=a"
   ]
  },
  {
   "cell_type": "code",
   "execution_count": 122,
   "id": "46ea362f-3508-4743-a0f4-817df7170bc6",
   "metadata": {},
   "outputs": [
    {
     "name": "stdout",
     "output_type": "stream",
     "text": [
      "beraberdirler\n"
     ]
    }
   ],
   "source": [
    "if a>=a:\n",
    "    print('beraberdirler')\n",
    "else:\n",
    "    print('Sehvdir')"
   ]
  },
  {
   "cell_type": "markdown",
   "id": "27ba905b-7e7e-4282-b67e-b2655bb4acf9",
   "metadata": {
    "tags": []
   },
   "source": [
    "## List()\n"
   ]
  },
  {
   "cell_type": "raw",
   "id": "5c23d6c4-0fc0-4c7e-b775-d5d84aaba5b5",
   "metadata": {},
   "source": [
    "Lists are used to store multiple items in a single variable.\n",
    "\n",
    "Lists are one of 4 built-in data types in Python used to store collections of data, the other 3 are Tuple, Set, and Dictionary, all with different qualities and usage.\n",
    "\n",
    "Lists are created using square brackets: [] \n",
    "duplicate yes\n",
    "different variable yes\n",
    "Changeable yes"
   ]
  },
  {
   "cell_type": "code",
   "execution_count": 124,
   "id": "e559c6a6-82a5-4f6e-9f4b-f8911c3284c0",
   "metadata": {},
   "outputs": [
    {
     "name": "stdout",
     "output_type": "stream",
     "text": [
      "['apple', 'banana', 'cherry']\n"
     ]
    }
   ],
   "source": [
    "\n",
    "thislist = [\"apple\", \"banana\", \"cherry\"]\n",
    "print(thislist)"
   ]
  },
  {
   "cell_type": "markdown",
   "id": "5c3a2b00-3624-4f1a-8085-fbab0abeb341",
   "metadata": {},
   "source": [
    "List items are ordered, changeable, and allow duplicate values.\n",
    "\n",
    "List items are indexed, the first item has index [0], the second item has index [1] etc."
   ]
  },
  {
   "cell_type": "code",
   "execution_count": 125,
   "id": "e4bf5ce5-185e-42c2-92e3-2aaa00bd42ae",
   "metadata": {},
   "outputs": [
    {
     "name": "stdout",
     "output_type": "stream",
     "text": [
      "['apple', 'banana', 'cherry', 'apple', 'cherry']\n"
     ]
    }
   ],
   "source": [
    "thislist = [\"apple\", \"banana\", \"cherry\", \"apple\", \"cherry\"]\n",
    "print(thislist) \n"
   ]
  },
  {
   "cell_type": "code",
   "execution_count": 126,
   "id": "05cb2fb9-5062-4e70-b15c-367fbe93109b",
   "metadata": {},
   "outputs": [
    {
     "name": "stdout",
     "output_type": "stream",
     "text": [
      "3\n"
     ]
    }
   ],
   "source": [
    "thislist = [\"apple\", \"banana\", \"cherry\"]\n",
    "print(len(thislist))"
   ]
  },
  {
   "cell_type": "code",
   "execution_count": 127,
   "id": "e16fd108-b847-4665-9c54-96f844d8bc39",
   "metadata": {},
   "outputs": [],
   "source": [
    "list1 = [\"apple\", \"banana\", \"cherry\"]\n",
    "list2 = [1, 5, 7, 9, 3]\n",
    "list3 = [True, False, False]"
   ]
  },
  {
   "cell_type": "code",
   "execution_count": 128,
   "id": "b51ef40d-80d9-47af-8122-272946b5bfb9",
   "metadata": {},
   "outputs": [],
   "source": [
    "list1 = [\"abc\", 34, True, 40, \"male\"]"
   ]
  },
  {
   "cell_type": "code",
   "execution_count": 130,
   "id": "a5020d75-e22b-4195-803f-9f9e39615ba9",
   "metadata": {},
   "outputs": [
    {
     "data": {
      "text/plain": [
       "type"
      ]
     },
     "execution_count": 130,
     "metadata": {},
     "output_type": "execute_result"
    }
   ],
   "source": [
    "type(list)"
   ]
  },
  {
   "cell_type": "code",
   "execution_count": 131,
   "id": "4d1aa6cd-cd2e-484c-bb45-d83141b7d422",
   "metadata": {},
   "outputs": [
    {
     "name": "stdout",
     "output_type": "stream",
     "text": [
      "['apple', 'banana', 'cherry']\n"
     ]
    }
   ],
   "source": [
    "thislist = list((\"apple\", \"banana\", \"cherry\")) # note the double round-brackets\n",
    "print(thislist)"
   ]
  },
  {
   "cell_type": "code",
   "execution_count": 134,
   "id": "3e5e3ed1-1534-4e27-bef1-90ab029a7ae5",
   "metadata": {},
   "outputs": [
    {
     "name": "stdout",
     "output_type": "stream",
     "text": [
      "[2, 3, 5, 1, 3, 8, -2, 0, 91, 32]\n",
      "[2, 3, 5, 1, 3, 8, -2, 0, 91, 32]\n",
      "[2, 3, 5, 1, 3, 8, -2, 0, 91, 32, 2, 1, 3, 1]\n",
      "[2, 3, 5, 43, 1, 3, 8, -2, 0, 91, 32, 2, 1, 3, 1]\n",
      "[2, 3, 5, 43, 1, 3, 8, -2, 0, 91, 32, 2, 1, 3]\n",
      "[2, 3, 5, 1, 3, 8, -2, 0, 91, 32, 2, 1, 3]\n",
      "[3, 1, 2, 32, 91, 0, -2, 8, 3, 1, 5, 3, 2]\n",
      "[-2, 0, 1, 1, 2, 2, 3, 3, 3, 5, 8, 32, 91]\n"
     ]
    }
   ],
   "source": [
    "liste = [2,3,5,1,3,8,-2,0,91]\n",
    "\n",
    "liste.append(32) # sona add edir\n",
    "print(liste)\n",
    "#liste.clear() # listi bosaldir\n",
    "liste.count(3) \n",
    "print(liste)\n",
    "liste.extend([2,1,3,1])\n",
    "print(liste)\n",
    "liste.insert(3,43)\n",
    "print(liste)\n",
    "liste.index(91)\n",
    "liste.pop()\n",
    "print(liste)\n",
    "liste.remove(43)\n",
    "print(liste)\n",
    "liste.reverse()\n",
    "print(liste)\n",
    "liste.sort()\n",
    "print(liste)"
   ]
  },
  {
   "cell_type": "code",
   "execution_count": 135,
   "id": "afc33b77-75c7-45bd-be9b-5d816f4ec9f8",
   "metadata": {},
   "outputs": [
    {
     "name": "stdout",
     "output_type": "stream",
     "text": [
      "banana\n"
     ]
    }
   ],
   "source": [
    "thislist = [\"apple\", \"banana\", \"cherry\"]\n",
    "print(thislist[1])\n"
   ]
  },
  {
   "cell_type": "code",
   "execution_count": 136,
   "id": "f68c84b6-0de6-49e6-afa1-25650c365c03",
   "metadata": {},
   "outputs": [
    {
     "name": "stdout",
     "output_type": "stream",
     "text": [
      "cherry\n"
     ]
    }
   ],
   "source": [
    "thislist = [\"apple\", \"banana\", \"cherry\"]\n",
    "print(thislist[-1])"
   ]
  },
  {
   "cell_type": "code",
   "execution_count": 137,
   "id": "5f23c804-62a7-40af-aa6e-41056d8e0a7d",
   "metadata": {},
   "outputs": [
    {
     "name": "stdout",
     "output_type": "stream",
     "text": [
      "['cherry', 'orange', 'kiwi']\n"
     ]
    }
   ],
   "source": [
    "thislist = [\"apple\", \"banana\", \"cherry\", \"orange\", \"kiwi\", \"melon\", \"mango\"]\n",
    "print(thislist[2:5])"
   ]
  },
  {
   "cell_type": "raw",
   "id": "3760e980-9e22-4667-8f14-2c8d7aa48bb4",
   "metadata": {},
   "source": [
    "Note: The search will start at index 2 (included) and end at index 5 (not included).\n",
    "Remember that the first item has index 0."
   ]
  },
  {
   "cell_type": "code",
   "execution_count": 138,
   "id": "9bc77ac0-73b6-44bb-acc9-c024a91ff774",
   "metadata": {},
   "outputs": [
    {
     "name": "stdout",
     "output_type": "stream",
     "text": [
      "['apple', 'blackcurrant', 'cherry']\n"
     ]
    }
   ],
   "source": [
    "thislist = [\"apple\", \"banana\", \"cherry\"]\n",
    "thislist[1] = \"blackcurrant\"\n",
    "print(thislist)"
   ]
  },
  {
   "cell_type": "code",
   "execution_count": 139,
   "id": "ef1b2309-82b9-4297-909b-6d91be64f57d",
   "metadata": {},
   "outputs": [
    {
     "name": "stdout",
     "output_type": "stream",
     "text": [
      "['apple', 'blackcurrant', 'watermelon', 'orange', 'kiwi', 'mango']\n"
     ]
    }
   ],
   "source": [
    "thislist = [\"apple\", \"banana\", \"cherry\", \"orange\", \"kiwi\", \"mango\"]\n",
    "thislist[1:3] = [\"blackcurrant\", \"watermelon\"]\n",
    "print(thislist)"
   ]
  },
  {
   "cell_type": "code",
   "execution_count": 140,
   "id": "efdbfa83-0ec8-40bd-b5c4-194f463a6243",
   "metadata": {},
   "outputs": [
    {
     "name": "stdout",
     "output_type": "stream",
     "text": [
      "['apple', 'blackcurrant', 'watermelon', 'cherry']\n"
     ]
    }
   ],
   "source": [
    "thislist = [\"apple\", \"banana\", \"cherry\"]\n",
    "thislist[1:2] = [\"blackcurrant\", \"watermelon\"]\n",
    "print(thislist) "
   ]
  },
  {
   "cell_type": "code",
   "execution_count": 141,
   "id": "66879983-b713-457f-b9d7-2291146d8624",
   "metadata": {},
   "outputs": [
    {
     "name": "stdout",
     "output_type": "stream",
     "text": [
      "['apple', 'banana', 'watermelon', 'cherry']\n"
     ]
    }
   ],
   "source": [
    "thislist = [\"apple\", \"banana\", \"cherry\"]\n",
    "thislist.insert(2, \"watermelon\")\n",
    "print(thislist)"
   ]
  },
  {
   "cell_type": "code",
   "execution_count": 142,
   "id": "28b70a1c-2528-4dec-93d1-cc35e6087f6a",
   "metadata": {},
   "outputs": [
    {
     "name": "stdout",
     "output_type": "stream",
     "text": [
      "['apple', 'banana', 'cherry', 'orange']\n"
     ]
    }
   ],
   "source": [
    "thislist = [\"apple\", \"banana\", \"cherry\"]\n",
    "thislist.append(\"orange\")\n",
    "print(thislist)"
   ]
  },
  {
   "cell_type": "code",
   "execution_count": 143,
   "id": "2a3d4f7d-a869-4e9d-a67e-9dd5e8d0abfb",
   "metadata": {},
   "outputs": [
    {
     "name": "stdout",
     "output_type": "stream",
     "text": [
      "['apple', 'banana', 'cherry', 'mango', 'pineapple', 'papaya']\n"
     ]
    }
   ],
   "source": [
    "thislist = [\"apple\", \"banana\", \"cherry\"]\n",
    "tropical = [\"mango\", \"pineapple\", \"papaya\"]\n",
    "thislist.extend(tropical)\n",
    "print(thislist)"
   ]
  },
  {
   "cell_type": "code",
   "execution_count": 144,
   "id": "e11b16a4-7035-4522-ac9f-13fab1543f41",
   "metadata": {},
   "outputs": [
    {
     "name": "stdout",
     "output_type": "stream",
     "text": [
      "['apple', 'banana', 'cherry', 'kiwi', 'orange']\n"
     ]
    }
   ],
   "source": [
    "thislist = [\"apple\", \"banana\", \"cherry\"]\n",
    "thistuple = (\"kiwi\", \"orange\")\n",
    "thislist.extend(thistuple)\n",
    "print(thislist)"
   ]
  },
  {
   "cell_type": "code",
   "execution_count": 145,
   "id": "8ab12ffb-bbca-43aa-a7cf-1f1a8ce474ff",
   "metadata": {},
   "outputs": [
    {
     "name": "stdout",
     "output_type": "stream",
     "text": [
      "['apple', 'cherry']\n"
     ]
    }
   ],
   "source": [
    "thislist = [\"apple\", \"banana\", \"cherry\"]\n",
    "thislist.remove(\"banana\")\n",
    "print(thislist)"
   ]
  },
  {
   "cell_type": "code",
   "execution_count": 146,
   "id": "dc1a188d-2f4d-4376-8132-840534e19400",
   "metadata": {},
   "outputs": [
    {
     "name": "stdout",
     "output_type": "stream",
     "text": [
      "['apple', 'cherry']\n"
     ]
    }
   ],
   "source": [
    "thislist = [\"apple\", \"banana\", \"cherry\"]\n",
    "thislist.pop(1)\n",
    "print(thislist)"
   ]
  },
  {
   "cell_type": "code",
   "execution_count": 147,
   "id": "bf5090bc-5aaa-4ed9-8abc-d272cbd4999e",
   "metadata": {},
   "outputs": [
    {
     "name": "stdout",
     "output_type": "stream",
     "text": [
      "['apple', 'banana']\n"
     ]
    }
   ],
   "source": [
    "thislist = [\"apple\", \"banana\", \"cherry\"]\n",
    "thislist.pop() #parametrsiz olanda en sonuncunu silir\n",
    "print(thislist)"
   ]
  },
  {
   "cell_type": "code",
   "execution_count": 148,
   "id": "a30cc041-49b2-4685-9033-16cb1aa487b4",
   "metadata": {},
   "outputs": [
    {
     "name": "stdout",
     "output_type": "stream",
     "text": [
      "['banana', 'cherry']\n"
     ]
    }
   ],
   "source": [
    "thislist = [\"apple\", \"banana\", \"cherry\"]\n",
    "del thislist[0]\n",
    "print(thislist)"
   ]
  },
  {
   "cell_type": "code",
   "execution_count": 149,
   "id": "65ca14a1-0def-48dc-bd1a-a796b6580b4f",
   "metadata": {},
   "outputs": [],
   "source": [
    "thislist = [\"apple\", \"banana\", \"cherry\"]\n",
    "del thislist"
   ]
  },
  {
   "cell_type": "code",
   "execution_count": 150,
   "id": "81316bae-0ed0-4332-9b8e-1bb3bb9eda49",
   "metadata": {},
   "outputs": [
    {
     "ename": "NameError",
     "evalue": "name 'thislist' is not defined",
     "output_type": "error",
     "traceback": [
      "\u001b[1;31m---------------------------------------------------------------------------\u001b[0m",
      "\u001b[1;31mNameError\u001b[0m                                 Traceback (most recent call last)",
      "\u001b[1;32m~\\AppData\\Local\\Temp\\ipykernel_5876\\3120681858.py\u001b[0m in \u001b[0;36m<module>\u001b[1;34m\u001b[0m\n\u001b[1;32m----> 1\u001b[1;33m \u001b[0mthislist\u001b[0m\u001b[1;33m\u001b[0m\u001b[1;33m\u001b[0m\u001b[0m\n\u001b[0m",
      "\u001b[1;31mNameError\u001b[0m: name 'thislist' is not defined"
     ]
    }
   ],
   "source": [
    "thislist"
   ]
  },
  {
   "cell_type": "code",
   "execution_count": 151,
   "id": "3bcd5674-5127-476d-b8d8-7becbe678fb3",
   "metadata": {},
   "outputs": [
    {
     "name": "stdout",
     "output_type": "stream",
     "text": [
      "[]\n"
     ]
    }
   ],
   "source": [
    "thislist = [\"apple\", \"banana\", \"cherry\"]\n",
    "thislist.clear()\n",
    "print(thislist)"
   ]
  },
  {
   "cell_type": "code",
   "execution_count": 153,
   "id": "938d76a5-22c7-4efb-b35d-62c06a99c74a",
   "metadata": {},
   "outputs": [
    {
     "name": "stdout",
     "output_type": "stream",
     "text": [
      "['banana', 'kiwi', 'mango', 'orange', 'pineapple']\n"
     ]
    }
   ],
   "source": [
    "thislist = [\"orange\", \"mango\", \"kiwi\", \"pineapple\", \"banana\"]\n",
    "thislist.sort()\n",
    "print(thislist)"
   ]
  },
  {
   "cell_type": "code",
   "execution_count": 154,
   "id": "53ebcf60-a6b4-4cae-81a2-6c492e376ca8",
   "metadata": {},
   "outputs": [
    {
     "name": "stdout",
     "output_type": "stream",
     "text": [
      "['banana', 'kiwi', 'mango', 'orange', 'pineapple']\n"
     ]
    }
   ],
   "source": [
    "print(thislist)"
   ]
  },
  {
   "cell_type": "code",
   "execution_count": 155,
   "id": "810d92e4-c5ec-46e5-8637-58731f576aef",
   "metadata": {},
   "outputs": [
    {
     "name": "stdout",
     "output_type": "stream",
     "text": [
      "[23, 50, 65, 82, 100]\n"
     ]
    }
   ],
   "source": [
    "thislist = [100, 50, 65, 82, 23]\n",
    "thislist.sort()\n",
    "print(thislist)"
   ]
  },
  {
   "cell_type": "code",
   "execution_count": 156,
   "id": "c2602dab-cb33-4a90-b808-ec02dbf8a8e0",
   "metadata": {},
   "outputs": [
    {
     "name": "stdout",
     "output_type": "stream",
     "text": [
      "['pineapple', 'orange', 'mango', 'kiwi', 'banana']\n"
     ]
    }
   ],
   "source": [
    "thislist = [\"orange\", \"mango\", \"kiwi\", \"pineapple\", \"banana\"]\n",
    "thislist.sort(reverse = True)\n",
    "print(thislist)"
   ]
  },
  {
   "cell_type": "code",
   "execution_count": 157,
   "id": "c9bba822-7515-47d1-9316-555b35db667f",
   "metadata": {},
   "outputs": [
    {
     "name": "stdout",
     "output_type": "stream",
     "text": [
      "['cherry', 'Kiwi', 'Orange', 'banana']\n"
     ]
    }
   ],
   "source": [
    "thislist = [\"banana\", \"Orange\", \"Kiwi\", \"cherry\"]\n",
    "thislist.reverse()\n",
    "print(thislist)"
   ]
  },
  {
   "cell_type": "code",
   "execution_count": 158,
   "id": "7e9e36af-b54c-418e-b212-1c2ec20dfcf7",
   "metadata": {},
   "outputs": [
    {
     "name": "stdout",
     "output_type": "stream",
     "text": [
      "['apple', 'banana', 'cherry']\n"
     ]
    }
   ],
   "source": [
    "thislist = [\"apple\", \"banana\", \"cherry\"]\n",
    "mylist = thislist.copy()\n",
    "print(mylist)"
   ]
  },
  {
   "cell_type": "code",
   "execution_count": 159,
   "id": "cfcf49c7-713d-4c21-821c-ce722b39c0a3",
   "metadata": {},
   "outputs": [
    {
     "name": "stdout",
     "output_type": "stream",
     "text": [
      "['apple', 'banana', 'cherry']\n"
     ]
    }
   ],
   "source": [
    "thislist = [\"apple\", \"banana\", \"cherry\"]\n",
    "mylist = list(thislist)\n",
    "print(mylist)"
   ]
  },
  {
   "cell_type": "code",
   "execution_count": 169,
   "id": "a33338a9-3062-48d9-82ee-e3fe840026c2",
   "metadata": {},
   "outputs": [
    {
     "name": "stdout",
     "output_type": "stream",
     "text": [
      "[2, 3, 5, 1, -6, 2, 4]\n"
     ]
    },
    {
     "data": {
      "text/plain": [
       "True"
      ]
     },
     "execution_count": 169,
     "metadata": {},
     "output_type": "execute_result"
    }
   ],
   "source": [
    "liste = [2,3,5,1,-6,2,4]\n",
    "\n",
    "sorted(liste) # deyisiklikelemir\n",
    "liste\n",
    "print(liste)\n",
    "min(liste)\n",
    "max(liste)\n",
    "\n",
    "9 in liste\n",
    "9 not in liste"
   ]
  },
  {
   "cell_type": "code",
   "execution_count": 170,
   "id": "01a6ab10-ac1f-4bc4-963d-b70c5653ff39",
   "metadata": {},
   "outputs": [
    {
     "name": "stdout",
     "output_type": "stream",
     "text": [
      "['a', 'b', 'c', 1, 2, 3]\n"
     ]
    }
   ],
   "source": [
    "list1 = [\"a\", \"b\", \"c\"]\n",
    "list2 = [1, 2, 3]\n",
    "\n",
    "list3 = list1 + list2\n",
    "print(list3)"
   ]
  },
  {
   "cell_type": "code",
   "execution_count": 171,
   "id": "3077d2f9-5543-4f1b-837b-2b8d84f0a1e6",
   "metadata": {},
   "outputs": [
    {
     "name": "stdout",
     "output_type": "stream",
     "text": [
      "['a', 'b', 'c', 1, 2, 3]\n"
     ]
    }
   ],
   "source": [
    "list1 = [\"a\", \"b\" , \"c\"]\n",
    "list2 = [1, 2, 3]\n",
    "\n",
    "for x in list2:\n",
    "  list1.append(x)\n",
    "\n",
    "print(list1)"
   ]
  },
  {
   "cell_type": "code",
   "execution_count": 172,
   "id": "1e971458-a815-42ec-bcb2-2d7dfa7c3d1c",
   "metadata": {},
   "outputs": [
    {
     "name": "stdout",
     "output_type": "stream",
     "text": [
      "['a', 'b', 'c', 1, 2, 3]\n"
     ]
    }
   ],
   "source": [
    "list1 = [\"a\", \"b\" , \"c\"]\n",
    "list2 = [1, 2, 3]\n",
    "\n",
    "list1.extend(list2)\n",
    "print(list1)"
   ]
  },
  {
   "cell_type": "code",
   "execution_count": 1,
   "id": "597abc74-873b-47e9-973e-c019de0d4a05",
   "metadata": {},
   "outputs": [],
   "source": [
    "l=[1,1,2,-6,6]"
   ]
  },
  {
   "cell_type": "code",
   "execution_count": 3,
   "id": "2ae3a40a-9fa6-4330-8e81-e8c9fe34d20a",
   "metadata": {},
   "outputs": [
    {
     "data": {
      "text/plain": [
       "[-6, 1, 1, 2, 6]"
      ]
     },
     "execution_count": 3,
     "metadata": {},
     "output_type": "execute_result"
    }
   ],
   "source": [
    "sorted(l) # uzerinde deyisiklik qalici sekilde aparmir"
   ]
  },
  {
   "cell_type": "code",
   "execution_count": 5,
   "id": "71d0cb58-3024-49cf-b826-2a42f2569b31",
   "metadata": {},
   "outputs": [
    {
     "data": {
      "text/plain": [
       "[1, 1, 2, -6, 6]"
      ]
     },
     "execution_count": 5,
     "metadata": {},
     "output_type": "execute_result"
    }
   ],
   "source": [
    "l"
   ]
  },
  {
   "cell_type": "markdown",
   "id": "d495a413-3b9a-4dc4-a91b-a1a9bb22cd64",
   "metadata": {},
   "source": [
    "### Tuple()"
   ]
  },
  {
   "cell_type": "code",
   "execution_count": 7,
   "id": "6191a4e5-fdad-4af5-8b03-f64f5978a1f4",
   "metadata": {},
   "outputs": [],
   "source": [
    "t=tuple()\n",
    "tu=()\n",
    "a=('ad','soyad')#muxtelif tipler"
   ]
  },
  {
   "cell_type": "code",
   "execution_count": 8,
   "id": "7a7be09f-83ab-4263-be3c-ae4a35ecbf1b",
   "metadata": {},
   "outputs": [
    {
     "data": {
      "text/plain": [
       "'ad'"
      ]
     },
     "execution_count": 8,
     "metadata": {},
     "output_type": "execute_result"
    }
   ],
   "source": [
    "a[0]"
   ]
  },
  {
   "cell_type": "code",
   "execution_count": 9,
   "id": "0b1fedea-1c0f-4dd3-b9db-b86a075a8a02",
   "metadata": {},
   "outputs": [
    {
     "data": {
      "text/plain": [
       "'ad'"
      ]
     },
     "execution_count": 9,
     "metadata": {},
     "output_type": "execute_result"
    }
   ],
   "source": [
    "a[-2]"
   ]
  },
  {
   "cell_type": "code",
   "execution_count": 11,
   "id": "ef2eb21e-444e-4612-95f0-b769ead6be96",
   "metadata": {},
   "outputs": [
    {
     "ename": "TypeError",
     "evalue": "'tuple' object does not support item assignment",
     "output_type": "error",
     "traceback": [
      "\u001b[1;31m---------------------------------------------------------------------------\u001b[0m",
      "\u001b[1;31mTypeError\u001b[0m                                 Traceback (most recent call last)",
      "Input \u001b[1;32mIn [11]\u001b[0m, in \u001b[0;36m<cell line: 1>\u001b[1;34m()\u001b[0m\n\u001b[1;32m----> 1\u001b[0m a[\u001b[38;5;241m0\u001b[39m]\u001b[38;5;241m=\u001b[39m\u001b[38;5;124m'\u001b[39m\u001b[38;5;124madi\u001b[39m\u001b[38;5;124m'\u001b[39m\n",
      "\u001b[1;31mTypeError\u001b[0m: 'tuple' object does not support item assignment"
     ]
    }
   ],
   "source": [
    "a[0]='adi' #deisdirilemez"
   ]
  },
  {
   "cell_type": "code",
   "execution_count": 14,
   "id": "889f6512-7c19-46a9-ba84-e7634814a27b",
   "metadata": {},
   "outputs": [],
   "source": [
    "tup=(21,-3,-3,'ad')"
   ]
  },
  {
   "cell_type": "code",
   "execution_count": 15,
   "id": "a5917e13-c6a0-4464-b31b-f4d3f6f4bb02",
   "metadata": {},
   "outputs": [
    {
     "data": {
      "text/plain": [
       "2"
      ]
     },
     "execution_count": 15,
     "metadata": {},
     "output_type": "execute_result"
    }
   ],
   "source": [
    "tup.count(-3)"
   ]
  },
  {
   "cell_type": "code",
   "execution_count": 16,
   "id": "07091ecf-ca0c-405e-878b-9e2f8924c102",
   "metadata": {},
   "outputs": [
    {
     "data": {
      "text/plain": [
       "3"
      ]
     },
     "execution_count": 16,
     "metadata": {},
     "output_type": "execute_result"
    }
   ],
   "source": [
    "tup.index('ad')"
   ]
  },
  {
   "cell_type": "markdown",
   "id": "5d18f602-4571-4f47-966b-2499d21aa5f0",
   "metadata": {},
   "source": [
    "## Set()"
   ]
  },
  {
   "cell_type": "code",
   "execution_count": 24,
   "id": "c1247476-cd58-4088-a8f4-4c6d11477922",
   "metadata": {},
   "outputs": [
    {
     "data": {
      "text/plain": [
       "set"
      ]
     },
     "execution_count": 24,
     "metadata": {},
     "output_type": "execute_result"
    }
   ],
   "source": [
    "# Set yaratmaq\n",
    "s=set()\n",
    "se={1,2,'a'}\n",
    "type(s)\n",
    "type(se)"
   ]
  },
  {
   "cell_type": "code",
   "execution_count": 25,
   "id": "bbd6287f-5242-4ab2-acc1-2b581502d63e",
   "metadata": {},
   "outputs": [
    {
     "name": "stdout",
     "output_type": "stream",
     "text": [
      "Help on class set in module builtins:\n",
      "\n",
      "class set(object)\n",
      " |  set() -> new empty set object\n",
      " |  set(iterable) -> new set object\n",
      " |  \n",
      " |  Build an unordered collection of unique elements.\n",
      " |  \n",
      " |  Methods defined here:\n",
      " |  \n",
      " |  __and__(self, value, /)\n",
      " |      Return self&value.\n",
      " |  \n",
      " |  __contains__(...)\n",
      " |      x.__contains__(y) <==> y in x.\n",
      " |  \n",
      " |  __eq__(self, value, /)\n",
      " |      Return self==value.\n",
      " |  \n",
      " |  __ge__(self, value, /)\n",
      " |      Return self>=value.\n",
      " |  \n",
      " |  __getattribute__(self, name, /)\n",
      " |      Return getattr(self, name).\n",
      " |  \n",
      " |  __gt__(self, value, /)\n",
      " |      Return self>value.\n",
      " |  \n",
      " |  __iand__(self, value, /)\n",
      " |      Return self&=value.\n",
      " |  \n",
      " |  __init__(self, /, *args, **kwargs)\n",
      " |      Initialize self.  See help(type(self)) for accurate signature.\n",
      " |  \n",
      " |  __ior__(self, value, /)\n",
      " |      Return self|=value.\n",
      " |  \n",
      " |  __isub__(self, value, /)\n",
      " |      Return self-=value.\n",
      " |  \n",
      " |  __iter__(self, /)\n",
      " |      Implement iter(self).\n",
      " |  \n",
      " |  __ixor__(self, value, /)\n",
      " |      Return self^=value.\n",
      " |  \n",
      " |  __le__(self, value, /)\n",
      " |      Return self<=value.\n",
      " |  \n",
      " |  __len__(self, /)\n",
      " |      Return len(self).\n",
      " |  \n",
      " |  __lt__(self, value, /)\n",
      " |      Return self<value.\n",
      " |  \n",
      " |  __ne__(self, value, /)\n",
      " |      Return self!=value.\n",
      " |  \n",
      " |  __or__(self, value, /)\n",
      " |      Return self|value.\n",
      " |  \n",
      " |  __rand__(self, value, /)\n",
      " |      Return value&self.\n",
      " |  \n",
      " |  __reduce__(...)\n",
      " |      Return state information for pickling.\n",
      " |  \n",
      " |  __repr__(self, /)\n",
      " |      Return repr(self).\n",
      " |  \n",
      " |  __ror__(self, value, /)\n",
      " |      Return value|self.\n",
      " |  \n",
      " |  __rsub__(self, value, /)\n",
      " |      Return value-self.\n",
      " |  \n",
      " |  __rxor__(self, value, /)\n",
      " |      Return value^self.\n",
      " |  \n",
      " |  __sizeof__(...)\n",
      " |      S.__sizeof__() -> size of S in memory, in bytes\n",
      " |  \n",
      " |  __sub__(self, value, /)\n",
      " |      Return self-value.\n",
      " |  \n",
      " |  __xor__(self, value, /)\n",
      " |      Return self^value.\n",
      " |  \n",
      " |  add(...)\n",
      " |      Add an element to a set.\n",
      " |      \n",
      " |      This has no effect if the element is already present.\n",
      " |  \n",
      " |  clear(...)\n",
      " |      Remove all elements from this set.\n",
      " |  \n",
      " |  copy(...)\n",
      " |      Return a shallow copy of a set.\n",
      " |  \n",
      " |  difference(...)\n",
      " |      Return the difference of two or more sets as a new set.\n",
      " |      \n",
      " |      (i.e. all elements that are in this set but not the others.)\n",
      " |  \n",
      " |  difference_update(...)\n",
      " |      Remove all elements of another set from this set.\n",
      " |  \n",
      " |  discard(...)\n",
      " |      Remove an element from a set if it is a member.\n",
      " |      \n",
      " |      If the element is not a member, do nothing.\n",
      " |  \n",
      " |  intersection(...)\n",
      " |      Return the intersection of two sets as a new set.\n",
      " |      \n",
      " |      (i.e. all elements that are in both sets.)\n",
      " |  \n",
      " |  intersection_update(...)\n",
      " |      Update a set with the intersection of itself and another.\n",
      " |  \n",
      " |  isdisjoint(...)\n",
      " |      Return True if two sets have a null intersection.\n",
      " |  \n",
      " |  issubset(...)\n",
      " |      Report whether another set contains this set.\n",
      " |  \n",
      " |  issuperset(...)\n",
      " |      Report whether this set contains another set.\n",
      " |  \n",
      " |  pop(...)\n",
      " |      Remove and return an arbitrary set element.\n",
      " |      Raises KeyError if the set is empty.\n",
      " |  \n",
      " |  remove(...)\n",
      " |      Remove an element from a set; it must be a member.\n",
      " |      \n",
      " |      If the element is not a member, raise a KeyError.\n",
      " |  \n",
      " |  symmetric_difference(...)\n",
      " |      Return the symmetric difference of two sets as a new set.\n",
      " |      \n",
      " |      (i.e. all elements that are in exactly one of the sets.)\n",
      " |  \n",
      " |  symmetric_difference_update(...)\n",
      " |      Update a set with the symmetric difference of itself and another.\n",
      " |  \n",
      " |  union(...)\n",
      " |      Return the union of sets as a new set.\n",
      " |      \n",
      " |      (i.e. all elements that are in either set.)\n",
      " |  \n",
      " |  update(...)\n",
      " |      Update a set with the union of itself and others.\n",
      " |  \n",
      " |  ----------------------------------------------------------------------\n",
      " |  Class methods defined here:\n",
      " |  \n",
      " |  __class_getitem__(...) from builtins.type\n",
      " |      See PEP 585\n",
      " |  \n",
      " |  ----------------------------------------------------------------------\n",
      " |  Static methods defined here:\n",
      " |  \n",
      " |  __new__(*args, **kwargs) from builtins.type\n",
      " |      Create and return a new object.  See help(type) for accurate signature.\n",
      " |  \n",
      " |  ----------------------------------------------------------------------\n",
      " |  Data and other attributes defined here:\n",
      " |  \n",
      " |  __hash__ = None\n",
      "\n"
     ]
    }
   ],
   "source": [
    "help(set)"
   ]
  },
  {
   "cell_type": "code",
   "execution_count": 20,
   "id": "f4cbbfe0-e8e0-415c-8d44-dc8bf7d68c42",
   "metadata": {},
   "outputs": [],
   "source": [
    "sep={} # bu srt yaratmir dct yaradir"
   ]
  },
  {
   "cell_type": "code",
   "execution_count": 21,
   "id": "37ca9267-5c87-43f0-9231-84eb2f17e0fc",
   "metadata": {},
   "outputs": [
    {
     "data": {
      "text/plain": [
       "dict"
      ]
     },
     "execution_count": 21,
     "metadata": {},
     "output_type": "execute_result"
    }
   ],
   "source": [
    "type(sep)"
   ]
  },
  {
   "cell_type": "code",
   "execution_count": 29,
   "id": "64eca168-637b-4a64-9c33-92993582acba",
   "metadata": {},
   "outputs": [
    {
     "ename": "TypeError",
     "evalue": "set expected at most 1 argument, got 2",
     "output_type": "error",
     "traceback": [
      "\u001b[1;31m---------------------------------------------------------------------------\u001b[0m",
      "\u001b[1;31mTypeError\u001b[0m                                 Traceback (most recent call last)",
      "Input \u001b[1;32mIn [29]\u001b[0m, in \u001b[0;36m<cell line: 1>\u001b[1;34m()\u001b[0m\n\u001b[1;32m----> 1\u001b[0m x\u001b[38;5;241m=\u001b[39m\u001b[38;5;28;43mset\u001b[39;49m\u001b[43m(\u001b[49m\u001b[38;5;241;43m1\u001b[39;49m\u001b[43m,\u001b[49m\u001b[38;5;241;43m2\u001b[39;49m\u001b[43m)\u001b[49m\n",
      "\u001b[1;31mTypeError\u001b[0m: set expected at most 1 argument, got 2"
     ]
    }
   ],
   "source": [
    "x=set(1,2)"
   ]
  },
  {
   "cell_type": "code",
   "execution_count": 54,
   "id": "6a605cf0-1f11-47d4-ab87-e4050e813fa4",
   "metadata": {},
   "outputs": [],
   "source": [
    "#Set items are unordered, unchangeable, and do not allow duplicate values.\n",
    "meyveler={'alma','uzum','nar'}\n",
    "tereveler={'alma','pomidor','kok'}\n"
   ]
  },
  {
   "cell_type": "code",
   "execution_count": 36,
   "id": "96629a4a-7927-412d-babf-f72a553bd6ad",
   "metadata": {},
   "outputs": [
    {
     "data": {
      "text/plain": [
       "{0, 1}"
      ]
     },
     "execution_count": 36,
     "metadata": {},
     "output_type": "execute_result"
    }
   ],
   "source": [
    "t={1,1,0,1}\n",
    "t"
   ]
  },
  {
   "cell_type": "code",
   "execution_count": 41,
   "id": "afdfef3b-629f-4ee8-8fa8-4cd6902c01c4",
   "metadata": {},
   "outputs": [
    {
     "data": {
      "text/plain": [
       "({'alma', 'nar', 'uzum'}, {'alma', 'kok', 'pomidor'})"
      ]
     },
     "execution_count": 41,
     "metadata": {},
     "output_type": "execute_result"
    }
   ],
   "source": [
    "meyveler,tereveler"
   ]
  },
  {
   "cell_type": "code",
   "execution_count": 45,
   "id": "e56fb0f0-683e-4fdf-b07d-c6bdecaaacac",
   "metadata": {},
   "outputs": [
    {
     "data": {
      "text/plain": [
       "{'hryva'}"
      ]
     },
     "execution_count": 47,
     "metadata": {},
     "output_type": "execute_result"
    }
   ],
   "source": [
    "meyveler.add('hryva')\n",
    "meyveler"
   ]
  },
  {
   "cell_type": "code",
   "execution_count": 50,
   "id": "78384fa3-8227-441a-8767-f22a33203cd0",
   "metadata": {},
   "outputs": [
    {
     "data": {
      "text/plain": [
       "set()"
      ]
     },
     "execution_count": 50,
     "metadata": {},
     "output_type": "execute_result"
    }
   ],
   "source": [
    "meyveler.clear()\n",
    "meyveler"
   ]
  },
  {
   "cell_type": "code",
   "execution_count": 56,
   "id": "35704882-85b4-44ba-8ed2-ac14edf1a9b6",
   "metadata": {},
   "outputs": [],
   "source": [
    "m=meyveler.copy()"
   ]
  },
  {
   "cell_type": "code",
   "execution_count": 57,
   "id": "c1317d4a-54b7-40bf-bab0-e517a3b10e0e",
   "metadata": {},
   "outputs": [
    {
     "data": {
      "text/plain": [
       "{'alma', 'nar', 'uzum'}"
      ]
     },
     "execution_count": 57,
     "metadata": {},
     "output_type": "execute_result"
    }
   ],
   "source": [
    "meyveler"
   ]
  },
  {
   "cell_type": "code",
   "execution_count": 62,
   "id": "71470d4b-b8a2-45fc-8b4d-086a412f2f5b",
   "metadata": {},
   "outputs": [
    {
     "data": {
      "text/plain": [
       "{'nar', 'uzum'}"
      ]
     },
     "execution_count": 62,
     "metadata": {},
     "output_type": "execute_result"
    }
   ],
   "source": [
    "m.difference(tereveler)"
   ]
  },
  {
   "cell_type": "markdown",
   "id": "a2db5fce-daca-430d-8afe-2e55ca9893d8",
   "metadata": {},
   "source": [
    "# Dict()"
   ]
  },
  {
   "cell_type": "code",
   "execution_count": 65,
   "id": "d4fde72b-1e7e-4ead-a69c-b1e0f0a9b419",
   "metadata": {},
   "outputs": [
    {
     "name": "stdout",
     "output_type": "stream",
     "text": [
      "{'brand': 'Ford', 'model': 'Mustang', 'year': 1964}\n"
     ]
    }
   ],
   "source": [
    "# key -values, key={int or str}, value all data type\n",
    "thisdict = {\n",
    "  \"brand\": \"Ford\",\n",
    "  \"model\": \"Mustang\",\n",
    "  \"year\": 1964\n",
    "}\n",
    "print(thisdict)"
   ]
  },
  {
   "cell_type": "code",
   "execution_count": 67,
   "id": "d189491c-e393-4e6c-8d91-c033d9533116",
   "metadata": {},
   "outputs": [
    {
     "data": {
      "text/plain": [
       "{'brand': 'Ford',\n",
       " 'electric': False,\n",
       " 'year': 1964,\n",
       " 'colors': ['red', 'white', 'blue']}"
      ]
     },
     "execution_count": 67,
     "metadata": {},
     "output_type": "execute_result"
    }
   ],
   "source": [
    "thisdict = {\n",
    "  \"brand\": \"Ford\",\n",
    "  \"electric\": False,\n",
    "  \"year\": 1964,\n",
    "  \"colors\": [\"red\", \"white\", \"blue\"]\n",
    "}\n",
    "thisdict"
   ]
  },
  {
   "cell_type": "code",
   "execution_count": null,
   "id": "5044cde4-5554-47b1-9e64-79657aa47248",
   "metadata": {},
   "outputs": [],
   "source": []
  },
  {
   "cell_type": "code",
   "execution_count": 75,
   "id": "7f3cf58f-eba0-468e-ad6f-2aa55ca748c9",
   "metadata": {},
   "outputs": [
    {
     "data": {
      "text/plain": [
       "dict_keys(['brand', 'electric', 'year', 'colors'])"
      ]
     },
     "execution_count": 75,
     "metadata": {},
     "output_type": "execute_result"
    }
   ],
   "source": [
    "a=thisdict.keys()\n",
    "a"
   ]
  },
  {
   "cell_type": "code",
   "execution_count": 78,
   "id": "f9b8ba71-229f-4221-bf04-d881c7e5b566",
   "metadata": {},
   "outputs": [
    {
     "data": {
      "text/plain": [
       "dict_values(['Ford', False, 1964, ['red', 'white', 'blue']])"
      ]
     },
     "execution_count": 78,
     "metadata": {},
     "output_type": "execute_result"
    }
   ],
   "source": [
    "x = thisdict.values()\n",
    "x"
   ]
  },
  {
   "cell_type": "code",
   "execution_count": 80,
   "id": "5057a727-2b99-4d1e-918d-bd6340f2c66e",
   "metadata": {},
   "outputs": [
    {
     "data": {
      "text/plain": [
       "dict_items([('brand', 'Ford'), ('electric', False), ('year', 1964), ('colors', ['red', 'white', 'blue'])])"
      ]
     },
     "execution_count": 80,
     "metadata": {},
     "output_type": "execute_result"
    }
   ],
   "source": [
    "y=thisdict.items()\n",
    "y"
   ]
  },
  {
   "cell_type": "code",
   "execution_count": 82,
   "id": "cb306dea-42f3-495c-b76f-2fcb314a3b5a",
   "metadata": {},
   "outputs": [
    {
     "name": "stdout",
     "output_type": "stream",
     "text": [
      "dict_keys(['brand', 'model', 'year'])\n",
      "dict_keys(['brand', 'model', 'year', 'color'])\n"
     ]
    }
   ],
   "source": [
    "car = {\n",
    "\"brand\": \"Ford\",\n",
    "\"model\": \"Mustang\",\n",
    "\"year\": 1964\n",
    "}\n",
    "\n",
    "x = car.keys()\n",
    "\n",
    "print(x) #before the change\n",
    "\n",
    "car[\"color\"] = \"white\"\n",
    "\n",
    "print(x) #after the change"
   ]
  },
  {
   "cell_type": "code",
   "execution_count": 84,
   "id": "805aab05-9470-405d-8a92-3c31fba54246",
   "metadata": {},
   "outputs": [
    {
     "name": "stdout",
     "output_type": "stream",
     "text": [
      "Yes, 'model' is one of the keys in the thisdict dictionary\n"
     ]
    }
   ],
   "source": [
    "thisdict = {\n",
    "  \"brand\": \"Ford\",\n",
    "  \"model\": \"Mustang\",\n",
    "  \"year\": 1964\n",
    "}\n",
    "if \"model\" in thisdict:\n",
    "  print(\"Yes, 'model' is one of the keys in the thisdict dictionary\")"
   ]
  },
  {
   "cell_type": "code",
   "execution_count": 86,
   "id": "c39bda6b-b55b-47a8-a21f-281a36951982",
   "metadata": {},
   "outputs": [],
   "source": [
    "thisdict = {\n",
    "  \"brand\": \"Ford\",\n",
    "  \"model\": \"Mustang\",\n",
    "  \"year\": 1964\n",
    "}\n",
    "thisdict.update({\"year\": 2020})"
   ]
  },
  {
   "cell_type": "markdown",
   "id": "2c7d7af5-fcdd-4f2c-93fe-06e346533c66",
   "metadata": {},
   "source": [
    "## Pyton casting \n"
   ]
  },
  {
   "cell_type": "code",
   "execution_count": 88,
   "id": "4809cb75-fcfe-46e3-abd2-a8c611272924",
   "metadata": {},
   "outputs": [
    {
     "name": "stdout",
     "output_type": "stream",
     "text": [
      "<class 'int'>\n",
      "<class 'float'>\n",
      "<class 'complex'>\n",
      "<class 'bool'>\n",
      "<class 'list'>\n",
      "<class 'tuple'>\n",
      "<class 'set'>\n",
      "<class 'str'>\n"
     ]
    }
   ],
   "source": [
    "# From String to ...\n",
    "a = \"232\"\n",
    "\n",
    "a = int(a)\n",
    "print(type(a))\n",
    "a = str(a)\n",
    "\n",
    "a = float(a)\n",
    "print(type(a))\n",
    "a = str(a)\n",
    "\n",
    "a = complex(a)\n",
    "print(type(a))\n",
    "a = str(a)\n",
    "\n",
    "a = bool(a)\n",
    "print(type(a))\n",
    "a = str(a)\n",
    "\n",
    "a = list(a)\n",
    "print(type(a))\n",
    "a = str(a)\n",
    "\n",
    "a = tuple(a)\n",
    "print(type(a))\n",
    "a = str(a)\n",
    "\n",
    "a = set(a)\n",
    "print(type(a))\n",
    "a = str(a)\n",
    "\n",
    "#a = dict(a)\n",
    "print(type(a))\n",
    "a = str(a)"
   ]
  },
  {
   "cell_type": "code",
   "execution_count": 90,
   "id": "453e6eb0-b207-45a9-8fe5-cef69c3e8599",
   "metadata": {},
   "outputs": [
    {
     "name": "stdout",
     "output_type": "stream",
     "text": [
      "<class 'str'>\n",
      "<class 'float'>\n",
      "<class 'int'>\n",
      "<class 'bool'>\n",
      "<class 'int'>\n",
      "<class 'int'>\n",
      "<class 'int'>\n",
      "<class 'int'>\n"
     ]
    }
   ],
   "source": [
    "# From number to other types\n",
    "a = 24\n",
    "\n",
    "a = str(a)\n",
    "print(type(a))\n",
    "a = int(a)\n",
    "\n",
    "a = float(a)\n",
    "print(type(a))\n",
    "a = int(a)\n",
    "\n",
    "#a = complex(a)\n",
    "print(type(a))\n",
    "a = int(a)\n",
    "\n",
    "a = bool(a)\n",
    "print(type(a))\n",
    "a = int(a)\n",
    "\n",
    "#a = list(a)\n",
    "print(type(a))\n",
    "a = int(a)\n",
    "\n",
    "#a = tuple(a)\n",
    "print(type(a))\n",
    "a = int(a)\n",
    "\n",
    "#a = set(a)\n",
    "print(type(a))\n",
    "a = int(a)\n",
    "\n",
    "#a = dict(a)\n",
    "print(type(a))\n",
    "a = int(a)"
   ]
  },
  {
   "cell_type": "code",
   "execution_count": 92,
   "id": "ea3d8736-d925-4f36-b35f-4c272ed3f02f",
   "metadata": {},
   "outputs": [
    {
     "name": "stdout",
     "output_type": "stream",
     "text": [
      "<class 'str'>\n",
      "<class 'int'>\n",
      "<class 'float'>\n",
      "<class 'complex'>\n",
      "<class 'bool'>\n",
      "<class 'bool'>\n",
      "<class 'bool'>\n",
      "<class 'bool'>\n"
     ]
    }
   ],
   "source": [
    "# List casting\n",
    "a = True\n",
    "\n",
    "a = str(a)\n",
    "print(type(a))\n",
    "a = bool(a)\n",
    "\n",
    "a = int(a)\n",
    "print(type(a))\n",
    "a = bool(a)\n",
    "\n",
    "a = float(a)\n",
    "print(type(a))\n",
    "a = bool(a)\n",
    "\n",
    "a = complex(a)\n",
    "print(type(a))\n",
    "a = bool(a)\n",
    "\n",
    "#a = list(a)\n",
    "print(type(a))\n",
    "a = bool(a)\n",
    "\n",
    "#a = tuple(a)\n",
    "print(type(a))\n",
    "a = bool(a)\n",
    "\n",
    "#a = set(a)\n",
    "print(type(a))\n",
    "a = bool(a)\n",
    "\n",
    "#a = dict(a)\n",
    "print(type(a))\n",
    "a = bool(a)\n"
   ]
  },
  {
   "cell_type": "code",
   "execution_count": 94,
   "id": "237d8026-c1ec-45f0-a4f7-07a08e73f21a",
   "metadata": {},
   "outputs": [
    {
     "name": "stdout",
     "output_type": "stream",
     "text": [
      "<class 'str'>\n",
      "<class 'str'>\n",
      "<class 'str'>\n",
      "<class 'str'>\n",
      "<class 'bool'>\n",
      "<class 'list'>\n",
      "<class 'set'>\n",
      "<class 'str'>\n"
     ]
    }
   ],
   "source": [
    "# Tuple\n",
    "a = (4,1,2,7)\n",
    "\n",
    "a = str(a)\n",
    "print(type(a))\n",
    "a = str(a)\n",
    "\n",
    "#a = int(a)\n",
    "print(type(a))\n",
    "a = str(a)\n",
    "\n",
    "#a = float(a)\n",
    "print(type(a))\n",
    "a = str(a)\n",
    "\n",
    "#a = complex(a)\n",
    "print(type(a))\n",
    "a = str(a)\n",
    "\n",
    "a = bool(a)\n",
    "print(type(a))\n",
    "a = str(a)\n",
    "\n",
    "a = list(a)\n",
    "print(type(a))\n",
    "a = str(a)\n",
    "\n",
    "a = set(a)\n",
    "print(type(a))\n",
    "a = str(a)\n",
    "\n",
    "#a = dict(a)\n",
    "print(type(a))\n",
    "a = str(a)"
   ]
  },
  {
   "cell_type": "code",
   "execution_count": 97,
   "id": "e51468d1-fa9e-409b-9cd6-16fdf93b50f1",
   "metadata": {},
   "outputs": [
    {
     "name": "stdout",
     "output_type": "stream",
     "text": [
      "<class 'str'>\n",
      "<class 'set'>\n",
      "<class 'set'>\n",
      "<class 'set'>\n",
      "<class 'set'>\n",
      "<class 'list'>\n",
      "<class 'tuple'>\n",
      "<class 'set'>\n"
     ]
    }
   ],
   "source": [
    "# Set casting\n",
    "a = {3,4,1,5}\n",
    "\n",
    "a = str(a)\n",
    "print(type(a))\n",
    "a = set(a)\n",
    "\n",
    "#a = int(a)\n",
    "print(type(a))\n",
    "a = set(a)\n",
    "\n",
    "#a = float(a)\n",
    "print(type(a))\n",
    "a = set(a)\n",
    "\n",
    "#a = complex(a)\n",
    "print(type(a))\n",
    "a = set(a)\n",
    "\n",
    "#a = bool(a)\n",
    "print(type(a))\n",
    "a = set(a)\n",
    "\n",
    "a = list(a)\n",
    "print(type(a))\n",
    "a = set(a)\n",
    "\n",
    "a = tuple(a)\n",
    "print(type(a))\n",
    "a = set(a)\n",
    "\n",
    "#a = dict(a)\n",
    "print(type(a))\n",
    "a = set(a)"
   ]
  },
  {
   "cell_type": "code",
   "execution_count": 98,
   "id": "baa3c542-7f2a-4d6c-86d1-f7d26cdb8d90",
   "metadata": {},
   "outputs": [
    {
     "name": "stdout",
     "output_type": "stream",
     "text": [
      "<class 'dict'>\n",
      "<class 'dict'>\n",
      "<class 'dict'>\n",
      "<class 'dict'>\n",
      "<class 'dict'>\n",
      "<class 'dict'>\n",
      "<class 'dict'>\n",
      "<class 'dict'>\n"
     ]
    }
   ],
   "source": [
    "# Dict casting\n",
    "a = {\"bir\":\"one\",\"iki\":\"two\",\"üç\":\"three\"}\n",
    "\n",
    "#a = str(a)\n",
    "print(type(a))\n",
    "a = dict(a)\n",
    "\n",
    "#a = int(a)\n",
    "print(type(a))\n",
    "a = dict(a)\n",
    "\n",
    "#a = float(a)\n",
    "print(type(a))\n",
    "a = dict(a)\n",
    "\n",
    "#a = complex(a)\n",
    "print(type(a))\n",
    "a = dict(a)\n",
    "\n",
    "##a = bool(a)\n",
    "print(type(a))\n",
    "a = dict(a)\n",
    "\n",
    "##a = list(a)\n",
    "print(type(a))\n",
    "a = dict(a)\n",
    "\n",
    "##a = tuple(a)\n",
    "print(type(a))\n",
    "a = dict(a)\n",
    "\n",
    "##a = set(a)\n",
    "print(type(a))\n",
    "a = dict(a)"
   ]
  },
  {
   "cell_type": "markdown",
   "id": "d1b2d9f2-ad76-4431-a6ac-20dcb9181f81",
   "metadata": {},
   "source": [
    "# From string to List with split()"
   ]
  },
  {
   "cell_type": "code",
   "execution_count": 99,
   "id": "eb632448-5655-4940-8560-0258f8fdf037",
   "metadata": {},
   "outputs": [
    {
     "data": {
      "text/plain": [
       "['Python,',\n",
       " 'nesne',\n",
       " 'yönelimli,',\n",
       " 'yorumlamalı,',\n",
       " 'birimsel',\n",
       " '(modüler)',\n",
       " 've',\n",
       " 'etkileşimli',\n",
       " 'yüksek',\n",
       " 'seviyeli',\n",
       " 'bir',\n",
       " 'programlama',\n",
       " 'dilidir.']"
      ]
     },
     "execution_count": 100,
     "metadata": {},
     "output_type": "execute_result"
    }
   ],
   "source": [
    "metin='Python, nesne yönelimli, yorumlamalı, birimsel (modüler) ve etkileşimli yüksek seviyeli bir programlama dilidir.'\n",
    "listim=metin.split(' ')\n",
    "listim"
   ]
  },
  {
   "cell_type": "code",
   "execution_count": 110,
   "id": "55cc94dd-7343-40c7-bea6-d5b23e2aca8e",
   "metadata": {},
   "outputs": [
    {
     "name": "stdout",
     "output_type": "stream",
     "text": [
      "Bu bir metindir\n"
     ]
    },
    {
     "data": {
      "text/plain": [
       "str"
      ]
     },
     "execution_count": 110,
     "metadata": {},
     "output_type": "execute_result"
    }
   ],
   "source": [
    "# tersine list---> str\n",
    "liste2 = [\"Bu\",\"bir\",\"metindir\"]\n",
    "metin2 = \" \".join(liste2)\n",
    "print(metin2)\n",
    "type(metin2)"
   ]
  },
  {
   "cell_type": "markdown",
   "id": "b86f09ad-8017-4494-a662-9ad67057374e",
   "metadata": {},
   "source": [
    "# The End :)"
   ]
  }
 ],
 "metadata": {
  "kernelspec": {
   "display_name": "Python 3 (ipykernel)",
   "language": "python",
   "name": "python3"
  },
  "language_info": {
   "codemirror_mode": {
    "name": "ipython",
    "version": 3
   },
   "file_extension": ".py",
   "mimetype": "text/x-python",
   "name": "python",
   "nbconvert_exporter": "python",
   "pygments_lexer": "ipython3",
   "version": "3.9.12"
  }
 },
 "nbformat": 4,
 "nbformat_minor": 5
}
